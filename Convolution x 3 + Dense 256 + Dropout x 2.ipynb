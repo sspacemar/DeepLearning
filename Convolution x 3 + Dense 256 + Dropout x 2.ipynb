{
 "cells": [
  {
   "cell_type": "code",
   "execution_count": 1,
   "metadata": {},
   "outputs": [
    {
     "name": "stdout",
     "output_type": "stream",
     "text": [
      "1.10.0\n"
     ]
    }
   ],
   "source": [
    "import tensorflow as tf\n",
    "import tensorflow.keras as keras\n",
    "\n",
    "import numpy as np\n",
    "import matplotlib.pyplot as plt\n",
    "print(tf.__version__)"
   ]
  },
  {
   "cell_type": "code",
   "execution_count": 2,
   "metadata": {},
   "outputs": [],
   "source": [
    "fashion_mnist = keras.datasets.fashion_mnist\n",
    "(train_images, train_labels), (test_images, test_labels) = fashion_mnist.load_data()\n",
    "train_images = train_images / 255.0\n",
    "test_images = test_images / 255.0"
   ]
  },
  {
   "cell_type": "code",
   "execution_count": 3,
   "metadata": {},
   "outputs": [],
   "source": [
    "train_images = train_images.reshape(60000, 28, 28, 1)\n",
    "test_images = test_images.reshape(10000, 28, 28, 1)"
   ]
  },
  {
   "cell_type": "code",
   "execution_count": 4,
   "metadata": {},
   "outputs": [
    {
     "name": "stdout",
     "output_type": "stream",
     "text": [
      "_________________________________________________________________\n",
      "Layer (type)                 Output Shape              Param #   \n",
      "=================================================================\n",
      "conv2d (Conv2D)              (None, 28, 28, 32)        320       \n",
      "_________________________________________________________________\n",
      "max_pooling2d (MaxPooling2D) (None, 14, 14, 32)        0         \n",
      "_________________________________________________________________\n",
      "conv2d_1 (Conv2D)            (None, 12, 12, 64)        18496     \n",
      "_________________________________________________________________\n",
      "max_pooling2d_1 (MaxPooling2 (None, 6, 6, 64)          0         \n",
      "_________________________________________________________________\n",
      "conv2d_2 (Conv2D)            (None, 4, 4, 64)          36928     \n",
      "_________________________________________________________________\n",
      "flatten (Flatten)            (None, 1024)              0         \n",
      "_________________________________________________________________\n",
      "dropout (Dropout)            (None, 1024)              0         \n",
      "_________________________________________________________________\n",
      "dense (Dense)                (None, 256)               262400    \n",
      "_________________________________________________________________\n",
      "dropout_1 (Dropout)          (None, 256)               0         \n",
      "_________________________________________________________________\n",
      "dense_1 (Dense)              (None, 10)                2570      \n",
      "=================================================================\n",
      "Total params: 320,714\n",
      "Trainable params: 320,714\n",
      "Non-trainable params: 0\n",
      "_________________________________________________________________\n"
     ]
    }
   ],
   "source": [
    "model = keras.Sequential([\n",
    "    keras.layers.Conv2D(32, (3,3), activation=tf.nn.relu, padding='same',input_shape=(28, 28, 1)),\n",
    "    keras.layers.MaxPooling2D((2, 2),strides=(2,2)),\n",
    "    keras.layers.Conv2D(64, (3,3), activation=tf.nn.relu),\n",
    "    keras.layers.MaxPooling2D((2, 2),strides=(2,2)),\n",
    "    keras.layers.Conv2D(64, (3,3), activation=tf.nn.relu),\n",
    "    keras.layers.Flatten(),\n",
    "    keras.layers.Dropout(0.25),\n",
    "    keras.layers.Dense(256, activation=tf.nn.relu),\n",
    "    keras.layers.Dropout(0.5),\n",
    "    keras.layers.Dense(10, activation=tf.nn.softmax)\n",
    "])\n",
    "\n",
    "model.compile(optimizer=tf.train.AdamOptimizer(), \n",
    "              loss='sparse_categorical_crossentropy',\n",
    "              metrics=['accuracy'])\n",
    "\n",
    "model.summary()"
   ]
  },
  {
   "cell_type": "code",
   "execution_count": 5,
   "metadata": {},
   "outputs": [
    {
     "name": "stdout",
     "output_type": "stream",
     "text": [
      "Train on 60000 samples, validate on 10000 samples\n",
      "Epoch 1/50\n",
      "60000/60000 [==============================] - 10s 169us/step - loss: 0.6754 - acc: 0.7517 - val_loss: 0.4106 - val_acc: 0.8504\n",
      "Epoch 2/50\n",
      "60000/60000 [==============================] - 7s 123us/step - loss: 0.3969 - acc: 0.8574 - val_loss: 0.3481 - val_acc: 0.8706\n",
      "Epoch 3/50\n",
      "60000/60000 [==============================] - 7s 122us/step - loss: 0.3412 - acc: 0.8757 - val_loss: 0.3242 - val_acc: 0.8810\n",
      "Epoch 4/50\n",
      "60000/60000 [==============================] - 7s 122us/step - loss: 0.3074 - acc: 0.8874 - val_loss: 0.3013 - val_acc: 0.8940\n",
      "Epoch 5/50\n",
      "60000/60000 [==============================] - 7s 122us/step - loss: 0.2863 - acc: 0.8955 - val_loss: 0.2754 - val_acc: 0.8976\n",
      "Epoch 6/50\n",
      "60000/60000 [==============================] - 7s 123us/step - loss: 0.2676 - acc: 0.9024 - val_loss: 0.2718 - val_acc: 0.9005\n",
      "Epoch 7/50\n",
      "60000/60000 [==============================] - 7s 123us/step - loss: 0.2548 - acc: 0.9052 - val_loss: 0.2613 - val_acc: 0.9034\n",
      "Epoch 8/50\n",
      "60000/60000 [==============================] - 7s 124us/step - loss: 0.2418 - acc: 0.9112 - val_loss: 0.2512 - val_acc: 0.9084\n",
      "Epoch 9/50\n",
      "60000/60000 [==============================] - 7s 123us/step - loss: 0.2273 - acc: 0.9157 - val_loss: 0.2593 - val_acc: 0.9079\n",
      "Epoch 10/50\n",
      "60000/60000 [==============================] - 7s 125us/step - loss: 0.2217 - acc: 0.9182 - val_loss: 0.2303 - val_acc: 0.9142\n",
      "Epoch 11/50\n",
      "60000/60000 [==============================] - 8s 125us/step - loss: 0.2112 - acc: 0.9224 - val_loss: 0.2284 - val_acc: 0.9168\n",
      "Epoch 12/50\n",
      "60000/60000 [==============================] - 7s 124us/step - loss: 0.1983 - acc: 0.9264 - val_loss: 0.2353 - val_acc: 0.9147\n",
      "Epoch 13/50\n",
      "60000/60000 [==============================] - 7s 124us/step - loss: 0.1939 - acc: 0.9280 - val_loss: 0.2275 - val_acc: 0.9191\n",
      "Epoch 14/50\n",
      "60000/60000 [==============================] - 7s 124us/step - loss: 0.1859 - acc: 0.9309 - val_loss: 0.2179 - val_acc: 0.9219\n",
      "Epoch 15/50\n",
      "60000/60000 [==============================] - 8s 128us/step - loss: 0.1820 - acc: 0.9319 - val_loss: 0.2155 - val_acc: 0.9196\n",
      "Epoch 16/50\n",
      "60000/60000 [==============================] - 8s 129us/step - loss: 0.1750 - acc: 0.9351 - val_loss: 0.2109 - val_acc: 0.9226\n",
      "Epoch 17/50\n",
      "60000/60000 [==============================] - 8s 130us/step - loss: 0.1659 - acc: 0.9384 - val_loss: 0.2149 - val_acc: 0.9230\n",
      "Epoch 18/50\n",
      "60000/60000 [==============================] - 8s 127us/step - loss: 0.1628 - acc: 0.9398 - val_loss: 0.2104 - val_acc: 0.9241\n",
      "Epoch 19/50\n",
      "60000/60000 [==============================] - 8s 133us/step - loss: 0.1559 - acc: 0.9419 - val_loss: 0.2169 - val_acc: 0.9258\n",
      "Epoch 20/50\n",
      "60000/60000 [==============================] - 8s 132us/step - loss: 0.1518 - acc: 0.9423 - val_loss: 0.2169 - val_acc: 0.9238\n",
      "Epoch 21/50\n",
      "60000/60000 [==============================] - 8s 129us/step - loss: 0.1454 - acc: 0.9454 - val_loss: 0.2191 - val_acc: 0.9259\n",
      "Epoch 22/50\n",
      "60000/60000 [==============================] - 8s 127us/step - loss: 0.1421 - acc: 0.9464 - val_loss: 0.2195 - val_acc: 0.9242\n",
      "Epoch 23/50\n",
      "60000/60000 [==============================] - 8s 134us/step - loss: 0.1367 - acc: 0.9486 - val_loss: 0.2219 - val_acc: 0.9227\n",
      "Epoch 24/50\n",
      "60000/60000 [==============================] - 8s 135us/step - loss: 0.1326 - acc: 0.9494 - val_loss: 0.2339 - val_acc: 0.9234\n",
      "Epoch 25/50\n",
      "60000/60000 [==============================] - 8s 132us/step - loss: 0.1289 - acc: 0.9513 - val_loss: 0.2177 - val_acc: 0.9260\n",
      "Epoch 26/50\n",
      "60000/60000 [==============================] - 8s 132us/step - loss: 0.1217 - acc: 0.9538 - val_loss: 0.2216 - val_acc: 0.9285\n",
      "Epoch 27/50\n",
      "60000/60000 [==============================] - 8s 128us/step - loss: 0.1215 - acc: 0.9539 - val_loss: 0.2224 - val_acc: 0.9298\n",
      "Epoch 28/50\n",
      "60000/60000 [==============================] - 8s 128us/step - loss: 0.1165 - acc: 0.9558 - val_loss: 0.2221 - val_acc: 0.9285\n",
      "Epoch 29/50\n",
      "60000/60000 [==============================] - 8s 125us/step - loss: 0.1148 - acc: 0.9563 - val_loss: 0.2326 - val_acc: 0.9241\n",
      "Epoch 30/50\n",
      "60000/60000 [==============================] - 8s 126us/step - loss: 0.1095 - acc: 0.9590 - val_loss: 0.2220 - val_acc: 0.9301\n",
      "Epoch 31/50\n",
      "60000/60000 [==============================] - 8s 125us/step - loss: 0.1046 - acc: 0.9595 - val_loss: 0.2276 - val_acc: 0.9273\n",
      "Epoch 32/50\n",
      "60000/60000 [==============================] - 8s 126us/step - loss: 0.1023 - acc: 0.9600 - val_loss: 0.2370 - val_acc: 0.9277\n",
      "Epoch 33/50\n",
      "60000/60000 [==============================] - 8s 126us/step - loss: 0.1037 - acc: 0.9603 - val_loss: 0.2274 - val_acc: 0.9305\n",
      "Epoch 34/50\n",
      "60000/60000 [==============================] - 8s 126us/step - loss: 0.0982 - acc: 0.9628 - val_loss: 0.2445 - val_acc: 0.9278\n",
      "Epoch 35/50\n",
      "60000/60000 [==============================] - 8s 128us/step - loss: 0.0962 - acc: 0.9628 - val_loss: 0.2445 - val_acc: 0.9260\n",
      "Epoch 36/50\n",
      "60000/60000 [==============================] - 8s 128us/step - loss: 0.0950 - acc: 0.9635 - val_loss: 0.2503 - val_acc: 0.9305\n",
      "Epoch 37/50\n",
      "60000/60000 [==============================] - 8s 129us/step - loss: 0.0906 - acc: 0.9649 - val_loss: 0.2551 - val_acc: 0.9264\n",
      "Epoch 38/50\n",
      "60000/60000 [==============================] - 8s 130us/step - loss: 0.0895 - acc: 0.9659 - val_loss: 0.2452 - val_acc: 0.9306\n",
      "Epoch 39/50\n",
      "60000/60000 [==============================] - 8s 129us/step - loss: 0.0850 - acc: 0.9672 - val_loss: 0.2490 - val_acc: 0.9281\n",
      "Epoch 40/50\n",
      "60000/60000 [==============================] - 8s 128us/step - loss: 0.0838 - acc: 0.9674 - val_loss: 0.2473 - val_acc: 0.9295\n",
      "Epoch 41/50\n",
      "60000/60000 [==============================] - 8s 128us/step - loss: 0.0800 - acc: 0.9697 - val_loss: 0.2599 - val_acc: 0.9293\n",
      "Epoch 42/50\n",
      "60000/60000 [==============================] - 8s 128us/step - loss: 0.0809 - acc: 0.9686 - val_loss: 0.2598 - val_acc: 0.9252\n",
      "Epoch 43/50\n",
      "60000/60000 [==============================] - 8s 128us/step - loss: 0.0807 - acc: 0.9694 - val_loss: 0.2610 - val_acc: 0.9276\n",
      "Epoch 44/50\n",
      "60000/60000 [==============================] - 8s 129us/step - loss: 0.0768 - acc: 0.9706 - val_loss: 0.2626 - val_acc: 0.9306\n",
      "Epoch 45/50\n",
      "60000/60000 [==============================] - 8s 130us/step - loss: 0.0758 - acc: 0.9709 - val_loss: 0.2576 - val_acc: 0.9283\n",
      "Epoch 46/50\n",
      "60000/60000 [==============================] - 8s 130us/step - loss: 0.0733 - acc: 0.9730 - val_loss: 0.2541 - val_acc: 0.9297 0.\n",
      "Epoch 47/50\n",
      "60000/60000 [==============================] - 8s 128us/step - loss: 0.0736 - acc: 0.9716 - val_loss: 0.2668 - val_acc: 0.9283\n",
      "Epoch 48/50\n",
      "60000/60000 [==============================] - 8s 130us/step - loss: 0.0709 - acc: 0.9734 - val_loss: 0.2758 - val_acc: 0.9306\n",
      "Epoch 49/50\n",
      "60000/60000 [==============================] - 8s 129us/step - loss: 0.0688 - acc: 0.9737 - val_loss: 0.2621 - val_acc: 0.9294\n",
      "Epoch 50/50\n",
      "60000/60000 [==============================] - 8s 129us/step - loss: 0.0690 - acc: 0.9732 - val_loss: 0.2818 - val_acc: 0.9284\n"
     ]
    }
   ],
   "source": [
    "history = model.fit(train_images, train_labels, batch_size=256, validation_data=(test_images, test_labels), epochs=50)"
   ]
  },
  {
   "cell_type": "code",
   "execution_count": 8,
   "metadata": {},
   "outputs": [
    {
     "data": {
      "image/png": "[encoded data removed]",
      "text/plain": [
       "<Figure size 432x288 with 1 Axes>"
      ]
     },
     "metadata": {},
     "output_type": "display_data"
    },
    {
     "data": {
      "image/png": "[encoded data removed]",
      "text/plain": [
       "<Figure size 432x288 with 1 Axes>"
      ]
     },
     "metadata": {},
     "output_type": "display_data"
    }
   ],
   "source": [
    "# plot accuracy history\n",
    "plt.plot(history.history['acc'])\n",
    "plt.plot(history.history['val_acc'])\n",
    "plt.title('model accuracy')\n",
    "plt.ylabel('accuracy')\n",
    "plt.xlabel('epoch')\n",
    "plt.legend(['train', 'test'], loc='upper left')\n",
    "plt.show()\n",
    "\n",
    "# plot loss history\n",
    "plt.plot(history.history['loss'])\n",
    "plt.plot(history.history['val_loss'])\n",
    "plt.title('model loss')\n",
    "plt.ylabel('loss')\n",
    "plt.xlabel('epoch')\n",
    "plt.legend(['train', 'test'], loc='upper left')\n",
    "plt.show()"
   ]
  },
  {
   "cell_type": "code",
   "execution_count": null,
   "metadata": {},
   "outputs": [],
   "source": []
  }
 ],
 "metadata": {
  "kernelspec": {
   "display_name": "Python 3 (ipykernel)",
   "language": "python",
   "name": "python3"
  },
  "language_info": {
   "codemirror_mode": {
    "name": "ipython",
    "version": 3
   },
   "file_extension": ".py",
   "mimetype": "text/x-python",
   "name": "python",
   "nbconvert_exporter": "python",
   "pygments_lexer": "ipython3",
   "version": "3.9.19"
  }
 },
 "nbformat": 4,
 "nbformat_minor": 4
}
