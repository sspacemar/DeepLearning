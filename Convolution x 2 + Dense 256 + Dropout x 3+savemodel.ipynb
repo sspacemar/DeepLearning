{
 "cells": [
  {
   "cell_type": "code",
   "execution_count": 1,
   "metadata": {},
   "outputs": [
    {
     "name": "stdout",
     "output_type": "stream",
     "text": [
      "2.10.1\n",
      "2.10.0\n"
     ]
    }
   ],
   "source": [
    "import tensorflow as tf\n",
    "import tensorflow.keras as keras\n",
    "\n",
    "import numpy as np\n",
    "import matplotlib.pyplot as plt\n",
    "print(tf.__version__)\n",
    "print(keras.__version__)\n",
    "\n",
    "# Ref: https://stackoverflow.com/questions/48610132/\n",
    "#      tensorflow-crash-with-cudnn-status-alloc-failed/53707323#53707323\n",
    "gpus = tf.config.experimental.list_physical_devices('GPU')\n",
    "tf.config.experimental.set_virtual_device_configuration(gpus[0], \n",
    "  [tf.config.experimental.VirtualDeviceConfiguration(memory_limit=3096)])"
   ]
  },
  {
   "cell_type": "code",
   "execution_count": 2,
   "metadata": {},
   "outputs": [],
   "source": [
    "fashion_mnist = keras.datasets.fashion_mnist\n",
    "(train_images, train_labels), (test_images, test_labels) = fashion_mnist.load_data()\n",
    "train_images = train_images.astype(np.float32) / 255\n",
    "test_images = test_images.astype(np.float32) / 255"
   ]
  },
  {
   "cell_type": "code",
   "execution_count": 3,
   "metadata": {},
   "outputs": [],
   "source": [
    "train_images = train_images.reshape(60000, 28, 28, 1)\n",
    "test_images = test_images.reshape(10000, 28, 28, 1)"
   ]
  },
  {
   "cell_type": "code",
   "execution_count": 4,
   "metadata": {},
   "outputs": [
    {
     "name": "stdout",
     "output_type": "stream",
     "text": [
      "Model: \"sequential\"\n",
      "_________________________________________________________________\n",
      " Layer (type)                Output Shape              Param #   \n",
      "=================================================================\n",
      " conv2d (Conv2D)             (None, 28, 28, 32)        320       \n",
      "                                                                 \n",
      " max_pooling2d (MaxPooling2D  (None, 14, 14, 32)       0         \n",
      " )                                                               \n",
      "                                                                 \n",
      " dropout (Dropout)           (None, 14, 14, 32)        0         \n",
      "                                                                 \n",
      " conv2d_1 (Conv2D)           (None, 12, 12, 64)        18496     \n",
      "                                                                 \n",
      " flatten (Flatten)           (None, 9216)              0         \n",
      "                                                                 \n",
      " dropout_1 (Dropout)         (None, 9216)              0         \n",
      "                                                                 \n",
      " dense (Dense)               (None, 256)               2359552   \n",
      "                                                                 \n",
      " dropout_2 (Dropout)         (None, 256)               0         \n",
      "                                                                 \n",
      " dense_1 (Dense)             (None, 10)                2570      \n",
      "                                                                 \n",
      "=================================================================\n",
      "Total params: 2,380,938\n",
      "Trainable params: 2,380,938\n",
      "Non-trainable params: 0\n",
      "_________________________________________________________________\n"
     ]
    }
   ],
   "source": [
    "model = keras.Sequential([\n",
    "    keras.layers.Conv2D(32, (3,3), activation=tf.nn.relu, padding='same',input_shape=(28, 28, 1)),\n",
    "    keras.layers.MaxPooling2D((2, 2),strides=(2,2)),\n",
    "    keras.layers.Dropout(0.25),\n",
    "    keras.layers.Conv2D(64, (3,3), activation=tf.nn.relu),\n",
    "    keras.layers.Flatten(),\n",
    "    keras.layers.Dropout(0.25),\n",
    "    keras.layers.Dense(256, activation=tf.nn.relu),\n",
    "    keras.layers.Dropout(0.5),\n",
    "    keras.layers.Dense(10, activation=tf.nn.softmax)\n",
    "])\n",
    "\n",
    "model.compile(optimizer=keras.optimizers.Adam(), \n",
    "              loss='sparse_categorical_crossentropy',\n",
    "              metrics=['accuracy'])\n",
    "\n",
    "model.summary()"
   ]
  },
  {
   "cell_type": "code",
   "execution_count": 5,
   "metadata": {},
   "outputs": [
    {
     "name": "stdout",
     "output_type": "stream",
     "text": [
      "Epoch 1/50\n",
      "235/235 [==============================] - 9s 12ms/step - loss: 0.5657 - accuracy: 0.7974 - val_loss: 0.3664 - val_accuracy: 0.8689\n",
      "Epoch 2/50\n",
      "235/235 [==============================] - 2s 10ms/step - loss: 0.3583 - accuracy: 0.8715 - val_loss: 0.3063 - val_accuracy: 0.8864\n",
      "Epoch 3/50\n",
      "235/235 [==============================] - 2s 10ms/step - loss: 0.3105 - accuracy: 0.8868 - val_loss: 0.2862 - val_accuracy: 0.8935\n",
      "Epoch 4/50\n",
      "235/235 [==============================] - 2s 10ms/step - loss: 0.2795 - accuracy: 0.8983 - val_loss: 0.2662 - val_accuracy: 0.9012\n",
      "Epoch 5/50\n",
      "235/235 [==============================] - 2s 10ms/step - loss: 0.2566 - accuracy: 0.9058 - val_loss: 0.2557 - val_accuracy: 0.9041\n",
      "Epoch 6/50\n",
      "235/235 [==============================] - 2s 10ms/step - loss: 0.2377 - accuracy: 0.9124 - val_loss: 0.2365 - val_accuracy: 0.9120\n",
      "Epoch 7/50\n",
      "235/235 [==============================] - 2s 10ms/step - loss: 0.2261 - accuracy: 0.9158 - val_loss: 0.2291 - val_accuracy: 0.9149\n",
      "Epoch 8/50\n",
      "235/235 [==============================] - 2s 10ms/step - loss: 0.2112 - accuracy: 0.9216 - val_loss: 0.2256 - val_accuracy: 0.9172\n",
      "Epoch 9/50\n",
      "235/235 [==============================] - 2s 10ms/step - loss: 0.2004 - accuracy: 0.9254 - val_loss: 0.2229 - val_accuracy: 0.9182\n",
      "Epoch 10/50\n",
      "235/235 [==============================] - 2s 10ms/step - loss: 0.1901 - accuracy: 0.9309 - val_loss: 0.2151 - val_accuracy: 0.9207\n",
      "Epoch 11/50\n",
      "235/235 [==============================] - 2s 10ms/step - loss: 0.1810 - accuracy: 0.9326 - val_loss: 0.2110 - val_accuracy: 0.9259\n",
      "Epoch 12/50\n",
      "235/235 [==============================] - 2s 10ms/step - loss: 0.1724 - accuracy: 0.9356 - val_loss: 0.2110 - val_accuracy: 0.9240\n",
      "Epoch 13/50\n",
      "235/235 [==============================] - 2s 10ms/step - loss: 0.1646 - accuracy: 0.9378 - val_loss: 0.2080 - val_accuracy: 0.9264\n",
      "Epoch 14/50\n",
      "235/235 [==============================] - 2s 10ms/step - loss: 0.1567 - accuracy: 0.9414 - val_loss: 0.2204 - val_accuracy: 0.9219\n",
      "Epoch 15/50\n",
      "235/235 [==============================] - 2s 10ms/step - loss: 0.1509 - accuracy: 0.9433 - val_loss: 0.2091 - val_accuracy: 0.9280\n",
      "Epoch 16/50\n",
      "235/235 [==============================] - 2s 10ms/step - loss: 0.1478 - accuracy: 0.9439 - val_loss: 0.2125 - val_accuracy: 0.9260\n",
      "Epoch 17/50\n",
      "235/235 [==============================] - 2s 10ms/step - loss: 0.1374 - accuracy: 0.9482 - val_loss: 0.2087 - val_accuracy: 0.9288\n",
      "Epoch 18/50\n",
      "235/235 [==============================] - 2s 10ms/step - loss: 0.1290 - accuracy: 0.9515 - val_loss: 0.2108 - val_accuracy: 0.9289\n",
      "Epoch 19/50\n",
      "235/235 [==============================] - 2s 10ms/step - loss: 0.1263 - accuracy: 0.9520 - val_loss: 0.2102 - val_accuracy: 0.9300\n",
      "Epoch 20/50\n",
      "235/235 [==============================] - 2s 10ms/step - loss: 0.1208 - accuracy: 0.9541 - val_loss: 0.2063 - val_accuracy: 0.9293\n",
      "Epoch 21/50\n",
      "235/235 [==============================] - 2s 10ms/step - loss: 0.1172 - accuracy: 0.9556 - val_loss: 0.2090 - val_accuracy: 0.9327\n",
      "Epoch 22/50\n",
      "235/235 [==============================] - 2s 11ms/step - loss: 0.1121 - accuracy: 0.9582 - val_loss: 0.2116 - val_accuracy: 0.9324\n",
      "Epoch 23/50\n",
      "235/235 [==============================] - 2s 10ms/step - loss: 0.1078 - accuracy: 0.9590 - val_loss: 0.2067 - val_accuracy: 0.9318\n",
      "Epoch 24/50\n",
      "235/235 [==============================] - 2s 10ms/step - loss: 0.1032 - accuracy: 0.9605 - val_loss: 0.2201 - val_accuracy: 0.9304\n",
      "Epoch 25/50\n",
      "235/235 [==============================] - 2s 10ms/step - loss: 0.1030 - accuracy: 0.9607 - val_loss: 0.2212 - val_accuracy: 0.9328\n",
      "Epoch 26/50\n",
      "235/235 [==============================] - 2s 10ms/step - loss: 0.0989 - accuracy: 0.9627 - val_loss: 0.2239 - val_accuracy: 0.9317\n",
      "Epoch 27/50\n",
      "235/235 [==============================] - 2s 10ms/step - loss: 0.0950 - accuracy: 0.9642 - val_loss: 0.2221 - val_accuracy: 0.9321\n",
      "Epoch 28/50\n",
      "235/235 [==============================] - 2s 10ms/step - loss: 0.0930 - accuracy: 0.9642 - val_loss: 0.2255 - val_accuracy: 0.9327\n",
      "Epoch 29/50\n",
      "235/235 [==============================] - 2s 10ms/step - loss: 0.0876 - accuracy: 0.9662 - val_loss: 0.2282 - val_accuracy: 0.9351\n",
      "Epoch 30/50\n",
      "235/235 [==============================] - 2s 10ms/step - loss: 0.0872 - accuracy: 0.9668 - val_loss: 0.2341 - val_accuracy: 0.9333\n",
      "Epoch 31/50\n",
      "235/235 [==============================] - 2s 10ms/step - loss: 0.0864 - accuracy: 0.9671 - val_loss: 0.2321 - val_accuracy: 0.9331\n",
      "Epoch 32/50\n",
      "235/235 [==============================] - 2s 10ms/step - loss: 0.0810 - accuracy: 0.9693 - val_loss: 0.2354 - val_accuracy: 0.9323\n",
      "Epoch 33/50\n",
      "235/235 [==============================] - 3s 11ms/step - loss: 0.0793 - accuracy: 0.9699 - val_loss: 0.2364 - val_accuracy: 0.9346\n",
      "Epoch 34/50\n",
      "235/235 [==============================] - 2s 10ms/step - loss: 0.0782 - accuracy: 0.9705 - val_loss: 0.2323 - val_accuracy: 0.9332\n",
      "Epoch 35/50\n",
      "235/235 [==============================] - 2s 10ms/step - loss: 0.0787 - accuracy: 0.9701 - val_loss: 0.2394 - val_accuracy: 0.9322\n",
      "Epoch 36/50\n",
      "235/235 [==============================] - 2s 10ms/step - loss: 0.0754 - accuracy: 0.9716 - val_loss: 0.2501 - val_accuracy: 0.9338\n",
      "Epoch 37/50\n",
      "235/235 [==============================] - 2s 10ms/step - loss: 0.0736 - accuracy: 0.9719 - val_loss: 0.2460 - val_accuracy: 0.9305\n",
      "Epoch 38/50\n",
      "235/235 [==============================] - 2s 10ms/step - loss: 0.0701 - accuracy: 0.9732 - val_loss: 0.2574 - val_accuracy: 0.9335\n",
      "Epoch 39/50\n",
      "235/235 [==============================] - 2s 10ms/step - loss: 0.0698 - accuracy: 0.9742 - val_loss: 0.2572 - val_accuracy: 0.9328\n",
      "Epoch 40/50\n",
      "235/235 [==============================] - 2s 10ms/step - loss: 0.0704 - accuracy: 0.9724 - val_loss: 0.2375 - val_accuracy: 0.9341\n",
      "Epoch 41/50\n",
      "235/235 [==============================] - 2s 10ms/step - loss: 0.0708 - accuracy: 0.9736 - val_loss: 0.2474 - val_accuracy: 0.9335\n",
      "Epoch 42/50\n",
      "235/235 [==============================] - 2s 10ms/step - loss: 0.0651 - accuracy: 0.9755 - val_loss: 0.2575 - val_accuracy: 0.9331\n",
      "Epoch 43/50\n",
      "235/235 [==============================] - 2s 10ms/step - loss: 0.0665 - accuracy: 0.9748 - val_loss: 0.2558 - val_accuracy: 0.9334\n",
      "Epoch 44/50\n",
      "235/235 [==============================] - 2s 10ms/step - loss: 0.0649 - accuracy: 0.9747 - val_loss: 0.2635 - val_accuracy: 0.9346\n",
      "Epoch 45/50\n",
      "235/235 [==============================] - 2s 10ms/step - loss: 0.0632 - accuracy: 0.9762 - val_loss: 0.2621 - val_accuracy: 0.9326\n",
      "Epoch 46/50\n",
      "235/235 [==============================] - 2s 10ms/step - loss: 0.0601 - accuracy: 0.9770 - val_loss: 0.2578 - val_accuracy: 0.9355\n",
      "Epoch 47/50\n",
      "235/235 [==============================] - 2s 10ms/step - loss: 0.0590 - accuracy: 0.9783 - val_loss: 0.2614 - val_accuracy: 0.9346\n",
      "Epoch 48/50\n",
      "235/235 [==============================] - 2s 10ms/step - loss: 0.0584 - accuracy: 0.9776 - val_loss: 0.2753 - val_accuracy: 0.9357\n",
      "Epoch 49/50\n",
      "235/235 [==============================] - 2s 10ms/step - loss: 0.0597 - accuracy: 0.9771 - val_loss: 0.2745 - val_accuracy: 0.9320\n",
      "Epoch 50/50\n",
      "235/235 [==============================] - 2s 10ms/step - loss: 0.0579 - accuracy: 0.9778 - val_loss: 0.2799 - val_accuracy: 0.9341\n"
     ]
    }
   ],
   "source": [
    "hist = model.fit(train_images, train_labels, batch_size=256, \n",
    "                 validation_data=(test_images, test_labels), epochs=50)"
   ]
  },
  {
   "cell_type": "code",
   "execution_count": 6,
   "metadata": {},
   "outputs": [
    {
     "data": {
      "image/png": "[encoded data removed]",
      "text/plain": [
       "<Figure size 640x480 with 1 Axes>"
      ]
     },
     "metadata": {},
     "output_type": "display_data"
    },
    {
     "data": {
      "image/png": "[encoded data removed]",
      "text/plain": [
       "<Figure size 640x480 with 1 Axes>"
      ]
     },
     "metadata": {},
     "output_type": "display_data"
    }
   ],
   "source": [
    "# plot accuracy history\n",
    "plt.plot(hist.history['accuracy'])\n",
    "plt.plot(hist.history['val_accuracy'])\n",
    "plt.title('model accuracy')\n",
    "plt.ylabel('accuracy')\n",
    "plt.xlabel('epoch')\n",
    "plt.legend(['train', 'test'], loc='upper left')\n",
    "plt.show()\n",
    "\n",
    "# plot loss history\n",
    "plt.plot(hist.history['loss'])\n",
    "plt.plot(hist.history['val_loss'])\n",
    "plt.title('model loss')\n",
    "plt.ylabel('loss')\n",
    "plt.xlabel('epoch')\n",
    "plt.legend(['train', 'test'], loc='upper left')\n",
    "plt.show()"
   ]
  },
  {
   "cell_type": "code",
   "execution_count": 7,
   "metadata": {},
   "outputs": [
    {
     "data": {
      "text/plain": [
       "list"
      ]
     },
     "execution_count": 7,
     "metadata": {},
     "output_type": "execute_result"
    }
   ],
   "source": [
    "type(hist.history['accuracy'])"
   ]
  },
  {
   "cell_type": "code",
   "execution_count": 8,
   "metadata": {},
   "outputs": [
    {
     "name": "stdout",
     "output_type": "stream",
     "text": [
      "0.9782666563987732\n",
      "0.935699999332428\n"
     ]
    }
   ],
   "source": [
    "max_train_acc = np.max(hist.history['accuracy'])\n",
    "max_val_acc = np.max(hist.history['val_accuracy'])\n",
    "print(max_train_acc)\n",
    "print(max_val_acc)"
   ]
  },
  {
   "cell_type": "code",
   "execution_count": 9,
   "metadata": {},
   "outputs": [
    {
     "data": {
      "text/plain": [
       "0.9782666563987732"
      ]
     },
     "execution_count": 9,
     "metadata": {},
     "output_type": "execute_result"
    }
   ],
   "source": [
    "max(hist.history['accuracy'])"
   ]
  },
  {
   "cell_type": "code",
   "execution_count": 10,
   "metadata": {},
   "outputs": [
    {
     "data": {
      "text/plain": [
       "[0.7921500205993652,\n",
       " 0.864633321762085,\n",
       " 0.8809833526611328,\n",
       " 0.8927833437919617,\n",
       " 0.9021166563034058,\n",
       " 0.9069333076477051,\n",
       " 0.915233314037323,\n",
       " 0.9186000227928162,\n",
       " 0.9217166900634766,\n",
       " 0.9262833595275879,\n",
       " 0.9291499853134155,\n",
       " 0.9334333539009094,\n",
       " 0.9363999962806702,\n",
       " 0.9396833181381226,\n",
       " 0.9403333067893982,\n",
       " 0.9434833526611328,\n",
       " 0.9465333223342896,\n",
       " 0.9490333199501038,\n",
       " 0.9502000212669373,\n",
       " 0.9532666802406311,\n",
       " 0.9538833498954773,\n",
       " 0.956083357334137,\n",
       " 0.9574999809265137,\n",
       " 0.9581000208854675,\n",
       " 0.9615499973297119,\n",
       " 0.961566686630249,\n",
       " 0.9621833562850952,\n",
       " 0.962933361530304,\n",
       " 0.9649666547775269,\n",
       " 0.9667999744415283,\n",
       " 0.9657666683197021,\n",
       " 0.9679166674613953,\n",
       " 0.9685666561126709,\n",
       " 0.9682333469390869,\n",
       " 0.9698166847229004,\n",
       " 0.9712833166122437,\n",
       " 0.9712166786193848,\n",
       " 0.9710333347320557,\n",
       " 0.9719833135604858,\n",
       " 0.9730333089828491,\n",
       " 0.9733166694641113,\n",
       " 0.9738166928291321,\n",
       " 0.973633348941803,\n",
       " 0.975433349609375,\n",
       " 0.9751499891281128,\n",
       " 0.9751166701316833,\n",
       " 0.9754499793052673,\n",
       " 0.9757999777793884,\n",
       " 0.9762666821479797,\n",
       " 0.9775000214576721]"
      ]
     },
     "execution_count": 10,
     "metadata": {},
     "output_type": "execute_result"
    }
   ],
   "source": [
    "hist.history['accuracy']"
   ]
  },
  {
   "cell_type": "code",
   "execution_count": 1,
   "metadata": {},
   "outputs": [],
   "source": [
    "# pip install pyyaml h5py\n",
    "\n",
    "# Save the entire model to a HDF5 file.\n",
    "# The '.h5' extension indicates that the model should be saved to HDF5.\n",
    "model.save('my_model.h5')"
   ]
  },
  {
   "cell_type": "code",
   "execution_count": null,
   "metadata": {},
   "outputs": [],
   "source": [
    "# Recreate the exact same model, including its weights and the optimizer\n",
    "new_model = tf.keras.models.load_model('my_model.h5')\n",
    "\n",
    "# Show the model architecture\n",
    "new_model.summary()"
   ]
  }
 ],
 "metadata": {
  "kernelspec": {
   "display_name": "Python 3 (ipykernel)",
   "language": "python",
   "name": "python3"
  },
  "language_info": {
   "codemirror_mode": {
    "name": "ipython",
    "version": 3
   },
   "file_extension": ".py",
   "mimetype": "text/x-python",
   "name": "python",
   "nbconvert_exporter": "python",
   "pygments_lexer": "ipython3",
   "version": "3.9.19"
  }
 },
 "nbformat": 4,
 "nbformat_minor": 4
}
