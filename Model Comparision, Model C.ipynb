{
 "cells": [
  {
   "cell_type": "code",
   "execution_count": null,
   "metadata": {},
   "outputs": [],
   "source": [
    "import tensorflow as tf\n",
    "import tensorflow.keras as keras\n",
    "\n",
    "import numpy as np\n",
    "import matplotlib.pyplot as plt\n",
    "print(tf.__version__)\n",
    "print(keras.__version__)"
   ]
  },
  {
   "cell_type": "code",
   "execution_count": null,
   "metadata": {},
   "outputs": [],
   "source": [
    "fashion_mnist = keras.datasets.fashion_mnist\n",
    "(train_images, train_labels), (test_images, test_labels) = fashion_mnist.load_data()\n",
    "train_images = train_images.astype(np.float32) / 255\n",
    "test_images = test_images.astype(np.float32) / 255"
   ]
  },
  {
   "cell_type": "code",
   "execution_count": null,
   "metadata": {},
   "outputs": [],
   "source": [
    "model = keras.Sequential([\n",
    "    keras.layers.Flatten(input_shape=(28, 28)),\n",
    "    # keras.layers.Dense(8, activation=tf.nn.relu),\n",
    "    # keras.layers.Dense(16, activation=tf.nn.relu),\n",
    "    # keras.layers.Dense(32, activation=tf.nn.relu),\n",
    "    # keras.layers.Dense(64, activation=tf.nn.relu),\n",
    "    # keras.layers.Dense(128, activation=tf.nn.relu),\n",
    "    # keras.layers.Dense(256, activation=tf.nn.relu),\n",
    "    keras.layers.Dense(512, activation=tf.nn.relu),\n",
    "    keras.layers.Dense(10, activation=tf.nn.softmax)\n",
    "])\n",
    "\n",
    "model.compile(optimizer=keras.optimizers.Adam(), \n",
    "              loss='sparse_categorical_crossentropy',\n",
    "              metrics=['accuracy'])\n",
    "\n",
    "model.summary()"
   ]
  },
  {
   "cell_type": "code",
   "execution_count": null,
   "metadata": {},
   "outputs": [],
   "source": [
    "model.fit(train_images, train_labels, batch_size=256, \n",
    "          validation_data=(test_images, test_labels), epochs=60)"
   ]
  },
  {
   "cell_type": "markdown",
   "metadata": {},
   "source": [
    "### Accuracy Summary\n",
    "A : accuracy: 0.8706 - val_accuracy: 0.8479 - val_loss: 0.4350\n",
    "<br>B0(128): accuracy: 0.9248 - val_accuracy: 0.8878 - val_loss: 0.3241 \n",
    "<br>B1(256): accuracy: 0.9618 - val_accuracy: 0.8956 - val_loss: 0.3521\n",
    "<br>C-8 Nodes: accuracy: 0.8690 - val_accuracy: 0.8395 - val_loss: 0.4539\n",
    "<br>C-16Nodes: accuracy: 0.8862 - val_loss: 0.3891 - val_accuracy: 0.8636\n",
    "<br>C-32Nodes: accuracy: 0.8992 - val_loss: 0.3699 - val_accuracy: 0.8703\n",
    "<br>C-64Nodes: accuracy: 0.9164 - val_loss: 0.3432 - val_accuracy: 0.8799\n",
    "<br>C-128Node: accuracy: 0.9305 - val_loss: 0.3357 - val_accuracy: 0.8908\n",
    "<br>C-256Node: accuracy: 0.9407 - val_loss: 0.3178 - val_accuracy: 0.8929\n",
    "<br>C-512Node: accuracy: 0.9782 - val_loss: 0.4353 - val_accuracy: 0.9004"
   ]
  },
  {
   "cell_type": "markdown",
   "metadata": {},
   "source": [
    "จากการทดลองนี้สรุปได้ว่าเมื่อเราเพิ่มจำนวน Node มันทำให้โมเดลเราเก่งขึ้นมากก็จริง <br>\n",
    "แต่แค่เก่งในจังหวะที่เราฝึกเท่านั้น เมื่อทำให้โมเดลเรา deep มากขึ้น เพิ่มขนาดของชั้น hidden layer สามารถทำให้โมเดลเราจดจำได้ดีขึ้น\n",
    "แต่ก็ยังมีปัญหาที่โมเดลไม่เก่งกับข้อมูลที่ไม่เคยเห็นมาก่อน เสมือว่าวิธีที่เราดึงสีแต่ละ pixel เข้าโมเดลมาถึงทางตัน ลองไปดูวิธีการอีกแบบที่ชาญฉลาดมากกว่า"
   ]
  },
  {
   "cell_type": "code",
   "execution_count": null,
   "metadata": {},
   "outputs": [],
   "source": []
  },
  {
   "cell_type": "code",
   "execution_count": null,
   "metadata": {},
   "outputs": [],
   "source": []
  }
 ],
 "metadata": {
  "kernelspec": {
   "display_name": "Python 3 (ipykernel)",
   "language": "python",
   "name": "python3"
  },
  "language_info": {
   "codemirror_mode": {
    "name": "ipython",
    "version": 3
   },
   "file_extension": ".py",
   "mimetype": "text/x-python",
   "name": "python",
   "nbconvert_exporter": "python",
   "pygments_lexer": "ipython3",
   "version": "3.12.4"
  }
 },
 "nbformat": 4,
 "nbformat_minor": 4
}
