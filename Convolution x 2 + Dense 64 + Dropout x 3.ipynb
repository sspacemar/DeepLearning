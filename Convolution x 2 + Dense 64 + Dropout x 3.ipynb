{
 "cells": [
  {
   "cell_type": "code",
   "execution_count": 3,
   "metadata": {},
   "outputs": [
    {
     "name": "stdout",
     "output_type": "stream",
     "text": [
      "2.10.1\n",
      "2.10.0\n"
     ]
    }
   ],
   "source": [
    "import tensorflow as tf\n",
    "import tensorflow.keras as keras\n",
    "\n",
    "import numpy as np\n",
    "import matplotlib.pyplot as plt\n",
    "print(tf.__version__)\n",
    "print(keras.__version__)"
   ]
  },
  {
   "cell_type": "code",
   "execution_count": 4,
   "metadata": {},
   "outputs": [],
   "source": [
    "fashion_mnist = keras.datasets.fashion_mnist\n",
    "(train_images, train_labels), (test_images, test_labels) = fashion_mnist.load_data()\n",
    "train_images = train_images.astype(np.float32) / 255.0\n",
    "test_images = test_images.astype(np.float32) / 255.0"
   ]
  },
  {
   "cell_type": "code",
   "execution_count": 5,
   "metadata": {},
   "outputs": [],
   "source": [
    "train_images = train_images.reshape(60000, 28, 28, 1)\n",
    "test_images = test_images.reshape(10000, 28, 28, 1)"
   ]
  },
  {
   "cell_type": "code",
   "execution_count": 6,
   "metadata": {},
   "outputs": [
    {
     "name": "stdout",
     "output_type": "stream",
     "text": [
      "Model: \"sequential\"\n",
      "_________________________________________________________________\n",
      " Layer (type)                Output Shape              Param #   \n",
      "=================================================================\n",
      " conv2d (Conv2D)             (None, 28, 28, 32)        320       \n",
      "                                                                 \n",
      " max_pooling2d (MaxPooling2D  (None, 14, 14, 32)       0         \n",
      " )                                                               \n",
      "                                                                 \n",
      " dropout (Dropout)           (None, 14, 14, 32)        0         \n",
      "                                                                 \n",
      " conv2d_1 (Conv2D)           (None, 12, 12, 64)        18496     \n",
      "                                                                 \n",
      " flatten (Flatten)           (None, 9216)              0         \n",
      "                                                                 \n",
      " dropout_1 (Dropout)         (None, 9216)              0         \n",
      "                                                                 \n",
      " dense (Dense)               (None, 64)                589888    \n",
      "                                                                 \n",
      " dropout_2 (Dropout)         (None, 64)                0         \n",
      "                                                                 \n",
      " dense_1 (Dense)             (None, 10)                650       \n",
      "                                                                 \n",
      "=================================================================\n",
      "Total params: 609,354\n",
      "Trainable params: 609,354\n",
      "Non-trainable params: 0\n",
      "_________________________________________________________________\n"
     ]
    }
   ],
   "source": [
    "model = keras.Sequential([\n",
    "    keras.layers.Conv2D(32, (3,3), activation=tf.nn.relu, padding='same',input_shape=(28, 28, 1)),\n",
    "    keras.layers.MaxPooling2D((2, 2),strides=(2,2)),\n",
    "    keras.layers.Dropout(0.25),\n",
    "    keras.layers.Conv2D(64, (3,3), activation=tf.nn.relu),\n",
    "    keras.layers.Flatten(),\n",
    "    keras.layers.Dropout(0.25),\n",
    "    keras.layers.Dense(64, activation=tf.nn.relu),\n",
    "    keras.layers.Dropout(0.5),\n",
    "    keras.layers.Dense(10, activation=tf.nn.softmax)\n",
    "])\n",
    "\n",
    "model.compile(optimizer=keras.optimizers.Adam(), \n",
    "              loss='sparse_categorical_crossentropy',\n",
    "              metrics=['accuracy'])\n",
    "\n",
    "model.summary()"
   ]
  },
  {
   "cell_type": "code",
   "execution_count": 7,
   "metadata": {},
   "outputs": [
    {
     "name": "stdout",
     "output_type": "stream",
     "text": [
      "Epoch 1/50\n",
      "118/118 [==============================] - 6s 19ms/step - loss: 0.8275 - accuracy: 0.7086 - val_loss: 0.4511 - val_accuracy: 0.8371\n",
      "Epoch 2/50\n",
      "118/118 [==============================] - 2s 17ms/step - loss: 0.5136 - accuracy: 0.8217 - val_loss: 0.3813 - val_accuracy: 0.8628\n",
      "Epoch 3/50\n",
      "118/118 [==============================] - 2s 17ms/step - loss: 0.4443 - accuracy: 0.8451 - val_loss: 0.3551 - val_accuracy: 0.8718\n",
      "Epoch 4/50\n",
      "118/118 [==============================] - 2s 17ms/step - loss: 0.4070 - accuracy: 0.8569 - val_loss: 0.3261 - val_accuracy: 0.8824\n",
      "Epoch 5/50\n",
      "118/118 [==============================] - 2s 17ms/step - loss: 0.3762 - accuracy: 0.8687 - val_loss: 0.3050 - val_accuracy: 0.8875\n",
      "Epoch 6/50\n",
      "118/118 [==============================] - 2s 17ms/step - loss: 0.3568 - accuracy: 0.8745 - val_loss: 0.2980 - val_accuracy: 0.8909\n",
      "Epoch 7/50\n",
      "118/118 [==============================] - 2s 17ms/step - loss: 0.3410 - accuracy: 0.8801 - val_loss: 0.2836 - val_accuracy: 0.8975\n",
      "Epoch 8/50\n",
      "118/118 [==============================] - 2s 17ms/step - loss: 0.3223 - accuracy: 0.8860 - val_loss: 0.2805 - val_accuracy: 0.8992\n",
      "Epoch 9/50\n",
      "118/118 [==============================] - 2s 17ms/step - loss: 0.3157 - accuracy: 0.8879 - val_loss: 0.2653 - val_accuracy: 0.9020\n",
      "Epoch 10/50\n",
      "118/118 [==============================] - 2s 17ms/step - loss: 0.3053 - accuracy: 0.8918 - val_loss: 0.2566 - val_accuracy: 0.9085\n",
      "Epoch 11/50\n",
      "118/118 [==============================] - 2s 17ms/step - loss: 0.2960 - accuracy: 0.8956 - val_loss: 0.2547 - val_accuracy: 0.9103\n",
      "Epoch 12/50\n",
      "118/118 [==============================] - 2s 17ms/step - loss: 0.2851 - accuracy: 0.8984 - val_loss: 0.2461 - val_accuracy: 0.9115\n",
      "Epoch 13/50\n",
      "118/118 [==============================] - 2s 17ms/step - loss: 0.2782 - accuracy: 0.9003 - val_loss: 0.2511 - val_accuracy: 0.9084\n",
      "Epoch 14/50\n",
      "118/118 [==============================] - 2s 17ms/step - loss: 0.2699 - accuracy: 0.9024 - val_loss: 0.2367 - val_accuracy: 0.9144\n",
      "Epoch 15/50\n",
      "118/118 [==============================] - 2s 17ms/step - loss: 0.2613 - accuracy: 0.9066 - val_loss: 0.2371 - val_accuracy: 0.9168\n",
      "Epoch 16/50\n",
      "118/118 [==============================] - 2s 17ms/step - loss: 0.2535 - accuracy: 0.9082 - val_loss: 0.2328 - val_accuracy: 0.9176\n",
      "Epoch 17/50\n",
      "118/118 [==============================] - 2s 17ms/step - loss: 0.2497 - accuracy: 0.9095 - val_loss: 0.2246 - val_accuracy: 0.9194\n",
      "Epoch 18/50\n",
      "118/118 [==============================] - 2s 17ms/step - loss: 0.2500 - accuracy: 0.9095 - val_loss: 0.2255 - val_accuracy: 0.9184\n",
      "Epoch 19/50\n",
      "118/118 [==============================] - 2s 16ms/step - loss: 0.2398 - accuracy: 0.9134 - val_loss: 0.2265 - val_accuracy: 0.9200\n",
      "Epoch 20/50\n",
      "118/118 [==============================] - 2s 16ms/step - loss: 0.2356 - accuracy: 0.9138 - val_loss: 0.2239 - val_accuracy: 0.9206\n",
      "Epoch 21/50\n",
      "118/118 [==============================] - 2s 17ms/step - loss: 0.2297 - accuracy: 0.9169 - val_loss: 0.2245 - val_accuracy: 0.9179\n",
      "Epoch 22/50\n",
      "118/118 [==============================] - 2s 17ms/step - loss: 0.2239 - accuracy: 0.9174 - val_loss: 0.2164 - val_accuracy: 0.9214\n",
      "Epoch 23/50\n",
      "118/118 [==============================] - 2s 16ms/step - loss: 0.2226 - accuracy: 0.9190 - val_loss: 0.2271 - val_accuracy: 0.9195\n",
      "Epoch 24/50\n",
      "118/118 [==============================] - 2s 17ms/step - loss: 0.2162 - accuracy: 0.9201 - val_loss: 0.2161 - val_accuracy: 0.9229\n",
      "Epoch 25/50\n",
      "118/118 [==============================] - 2s 16ms/step - loss: 0.2147 - accuracy: 0.9213 - val_loss: 0.2183 - val_accuracy: 0.9239\n",
      "Epoch 26/50\n",
      "118/118 [==============================] - 2s 16ms/step - loss: 0.2070 - accuracy: 0.9230 - val_loss: 0.2153 - val_accuracy: 0.9255\n",
      "Epoch 27/50\n",
      "118/118 [==============================] - 2s 17ms/step - loss: 0.2092 - accuracy: 0.9229 - val_loss: 0.2128 - val_accuracy: 0.9252\n",
      "Epoch 28/50\n",
      "118/118 [==============================] - 2s 16ms/step - loss: 0.2046 - accuracy: 0.9242 - val_loss: 0.2130 - val_accuracy: 0.9241\n",
      "Epoch 29/50\n",
      "118/118 [==============================] - 2s 16ms/step - loss: 0.2012 - accuracy: 0.9254 - val_loss: 0.2117 - val_accuracy: 0.9263\n",
      "Epoch 30/50\n",
      "118/118 [==============================] - 2s 16ms/step - loss: 0.1984 - accuracy: 0.9266 - val_loss: 0.2207 - val_accuracy: 0.9226\n",
      "Epoch 31/50\n",
      "118/118 [==============================] - 2s 16ms/step - loss: 0.1944 - accuracy: 0.9258 - val_loss: 0.2139 - val_accuracy: 0.9264\n",
      "Epoch 32/50\n",
      "118/118 [==============================] - 2s 17ms/step - loss: 0.1928 - accuracy: 0.9289 - val_loss: 0.2146 - val_accuracy: 0.9260\n",
      "Epoch 33/50\n",
      "118/118 [==============================] - 2s 16ms/step - loss: 0.1886 - accuracy: 0.9292 - val_loss: 0.2106 - val_accuracy: 0.9276\n",
      "Epoch 34/50\n",
      "118/118 [==============================] - 2s 16ms/step - loss: 0.1859 - accuracy: 0.9299 - val_loss: 0.2164 - val_accuracy: 0.9261\n",
      "Epoch 35/50\n",
      "118/118 [==============================] - 2s 16ms/step - loss: 0.1826 - accuracy: 0.9314 - val_loss: 0.2128 - val_accuracy: 0.9271\n",
      "Epoch 36/50\n",
      "118/118 [==============================] - 2s 16ms/step - loss: 0.1833 - accuracy: 0.9319 - val_loss: 0.2107 - val_accuracy: 0.9275\n",
      "Epoch 37/50\n",
      "118/118 [==============================] - 2s 17ms/step - loss: 0.1782 - accuracy: 0.9324 - val_loss: 0.2074 - val_accuracy: 0.9264\n",
      "Epoch 38/50\n",
      "118/118 [==============================] - 2s 17ms/step - loss: 0.1750 - accuracy: 0.9323 - val_loss: 0.2202 - val_accuracy: 0.9242\n",
      "Epoch 39/50\n",
      "118/118 [==============================] - 2s 17ms/step - loss: 0.1748 - accuracy: 0.9336 - val_loss: 0.2106 - val_accuracy: 0.9275\n",
      "Epoch 40/50\n",
      "118/118 [==============================] - 2s 16ms/step - loss: 0.1728 - accuracy: 0.9344 - val_loss: 0.2133 - val_accuracy: 0.9279\n",
      "Epoch 41/50\n",
      "118/118 [==============================] - 2s 16ms/step - loss: 0.1649 - accuracy: 0.9359 - val_loss: 0.2140 - val_accuracy: 0.9260\n",
      "Epoch 42/50\n",
      "118/118 [==============================] - 2s 17ms/step - loss: 0.1683 - accuracy: 0.9362 - val_loss: 0.2089 - val_accuracy: 0.9266\n",
      "Epoch 43/50\n",
      "118/118 [==============================] - 2s 17ms/step - loss: 0.1632 - accuracy: 0.9384 - val_loss: 0.2118 - val_accuracy: 0.9290\n",
      "Epoch 44/50\n",
      "118/118 [==============================] - 2s 17ms/step - loss: 0.1654 - accuracy: 0.9376 - val_loss: 0.2139 - val_accuracy: 0.9294\n",
      "Epoch 45/50\n",
      "118/118 [==============================] - 2s 16ms/step - loss: 0.1638 - accuracy: 0.9373 - val_loss: 0.2166 - val_accuracy: 0.9295\n",
      "Epoch 46/50\n",
      "118/118 [==============================] - 2s 16ms/step - loss: 0.1620 - accuracy: 0.9384 - val_loss: 0.2153 - val_accuracy: 0.9301\n",
      "Epoch 47/50\n",
      "118/118 [==============================] - 2s 16ms/step - loss: 0.1613 - accuracy: 0.9384 - val_loss: 0.2167 - val_accuracy: 0.9275\n",
      "Epoch 48/50\n",
      "118/118 [==============================] - 2s 17ms/step - loss: 0.1599 - accuracy: 0.9393 - val_loss: 0.2167 - val_accuracy: 0.9280\n",
      "Epoch 49/50\n",
      "118/118 [==============================] - 2s 17ms/step - loss: 0.1570 - accuracy: 0.9394 - val_loss: 0.2179 - val_accuracy: 0.9278\n",
      "Epoch 50/50\n",
      "118/118 [==============================] - 2s 17ms/step - loss: 0.1521 - accuracy: 0.9420 - val_loss: 0.2214 - val_accuracy: 0.9278\n"
     ]
    }
   ],
   "source": [
    "history = model.fit(train_images, train_labels, batch_size=512, \n",
    "                    validation_data=(test_images, test_labels), epochs=50)"
   ]
  },
  {
   "cell_type": "code",
   "execution_count": 8,
   "metadata": {},
   "outputs": [
    {
     "name": "stdout",
     "output_type": "stream",
     "text": [
      "max training accuracy = 93.76\n",
      "max validation accuracy = 92.83\n"
     ]
    }
   ],
   "source": [
    "max_tr_acc = max(history.history['accuracy'])\n",
    "max_val_acc = max(history.history['val_accuracy'])\n",
    "print('max training accuracy = {:.4}'.format(100*max_tr_acc))\n",
    "print('max validation accuracy = {:.4}'.format(100*max_val_acc))"
   ]
  },
  {
   "cell_type": "code",
   "execution_count": 10,
   "metadata": {},
   "outputs": [
    {
     "data": {
      "image/png": "[encoded data removed]",
      "text/plain": [
       "<Figure size 432x288 with 1 Axes>"
      ]
     },
     "metadata": {
      "needs_background": "light"
     },
     "output_type": "display_data"
    },
    {
     "data": {
      "image/png": "[encoded data removed]",
      "text/plain": [
       "<Figure size 432x288 with 1 Axes>"
      ]
     },
     "metadata": {
      "needs_background": "light"
     },
     "output_type": "display_data"
    }
   ],
   "source": [
    "# plot accuracy history\n",
    "plt.plot(history.history['accuracy'])\n",
    "plt.plot(history.history['val_accuracy'])\n",
    "plt.title('model accuracy')\n",
    "plt.ylabel('accuracy')\n",
    "plt.xlabel('epoch')\n",
    "plt.legend(['train', 'test'], loc='upper left')\n",
    "plt.show()\n",
    "\n",
    "# plot loss history\n",
    "plt.plot(history.history['loss'])\n",
    "plt.plot(history.history['val_loss'])\n",
    "plt.title('model loss')\n",
    "plt.ylabel('loss')\n",
    "plt.xlabel('epoch')\n",
    "plt.legend(['train', 'test'], loc='upper left')\n",
    "plt.show()"
   ]
  },
  {
   "cell_type": "markdown",
   "metadata": {},
   "source": [
    "Dropout x1: loss: 0.0646 - accuracy: 0.9722 - val_loss: 0.3612 - val_accuracy: 0.9298 <br>\n",
    "Dropout x3: loss: 0.1521 - accuracy: 0.9420 - val_loss: 0.2214 - val_accuracy: 0.9278 <br>\n",
    "val_accuracy ไม่ได้ต่างกันสักเท่าไหร่ แต่เหมือนว่าภาพ val_loss นั้นมีแนวโน้มลดลงอย่างเห็นได้ชัด <br>\n",
    "ลด overfitting ได้ <br>\n",
    "\n",
    "อย่างไรก็ตามอยากลองเพิ่มจำนวนชั้นของ Conv และ ความกว้างของ Dense ดูโดยคาดหวังว่าจะทำให้ acc โดยรวมนั้นเพิ่มขึ้น <br>\n",
    "ไปที่ไฟล์ Convolution x 2 + Dense 256 + Dropout x 3"
   ]
  },
  {
   "cell_type": "code",
   "execution_count": null,
   "metadata": {},
   "outputs": [],
   "source": []
  }
 ],
 "metadata": {
  "kernelspec": {
   "display_name": "Python 3 (ipykernel)",
   "language": "python",
   "name": "python3"
  },
  "language_info": {
   "codemirror_mode": {
    "name": "ipython",
    "version": 3
   },
   "file_extension": ".py",
   "mimetype": "text/x-python",
   "name": "python",
   "nbconvert_exporter": "python",
   "pygments_lexer": "ipython3",
   "version": "3.9.19"
  }
 },
 "nbformat": 4,
 "nbformat_minor": 4
}
