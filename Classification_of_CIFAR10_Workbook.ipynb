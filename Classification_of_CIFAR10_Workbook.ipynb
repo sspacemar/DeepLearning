{
 "cells": [
  {
   "cell_type": "markdown",
   "metadata": {
    "id": "COoozru-IFvB"
   },
   "source": [
    "**รายชื่อสมาชิกในกลุ่ม** (ดับเบิลคลิกหรือดับเบิลแท็บเซลล์นี้เพื่อกรอกข้อมูล) <br>\n",
    "<font color='blue'>(พื้นที่สำหรับกรอก) </font><br/>\n",
    "\n",
    "1. 650710076 ณัฏฐณิชา เวียงวิราศไพศาล\n",
    "2. 650710592 หฤณชนก พนมวรชัย\n",
    "3. 650710836 พัชราพร ภายไธสง\n",
    "\n",
    "เป็นส่วนหนึ่งของวิชา 5177433, Deep Learning For Computer Vision, อ.ดร.ภูริวัจน์ วรวิชัยพัฒน์"
   ]
  },
  {
   "cell_type": "markdown",
   "metadata": {
    "id": "XZJzY_tTIFvF"
   },
   "source": [
    "## จุดประสงค์การเรียนรู้\n",
    "ในแบบฝึกหัดนี้ เราจะทดลองใช้ตัวแบบการเรียนรู้เพื่อรู้จำภาพในฐานข้อมูล CIFAR10 และรู้จักกับการรายงานผลการรันออกมาในรูปของกราฟด้วย matplotlib และ plotly ซึ่งจุดเน้นในแบบฝึกหัดนี้จะไม่ใช่การให้ได้มาซึ่งตัวแบบที่ทรงพลัง แต่เป็นการเข้าใจกระบวนการฝึกและทดสอบสมรรถนะขั้นพื้นฐาน\n",
    "\n",
    "สิ่งที่เราสนใจจะทำให้ได้ในแบบฝึกหัดนี้คือ\n",
    "1. สร้างและฝึกตัวแบบการเรียนรู้\n",
    "  * การกำหนดโครงสร้างตัวแบบเชิงลำดับ (sequential) ที่ไม่มี Hidden Layer\n",
    "  * การคอมไพล์ตัวแบบพร้อมระบุวิธีการฝึกผ่าน Optimizer\n",
    "  * การทำข้อมูลให้เป็นมาตรฐาน (normalization)\n",
    "  * ตัวแบบที่มีชั้นซ่อนตัวชนิด dense หนึ่งชั้น\n",
    "  * หัดใช้ non-linearlity unit คือ ReLU\n",
    "2. การบันทึกและเรียกใช้ตัวแบบที่ฝึกแล้ว\n",
    "  * การบันทึตัวแบบที่ฝึกแล้ว\n",
    "  * การโหลดตัวแบบที่ฝึกมาแล้ว\n",
    "  * การฝึกตัวแบบหลังจากที่โหลดขึ้นมาใหม่\n",
    "3. การทดสอบสมรรถนะของตัวแบบ\n",
    "  * การใช้ test set เมื่อเรียกฟังก์ชัน fit สำหรับฝึกตัวแบบ (validation)\n",
    "  * การพล็อตกราฟผลลัพธ์ด้วย matplotlib\n",
    "  * การนำไปใช้กับตัวอย่างและการนำค่าผลลัพธ์การทาย (prediction) มาใช้"
   ]
  },
  {
   "cell_type": "markdown",
   "metadata": {
    "id": "RRGg968tIFvG"
   },
   "source": [
    "## <font color='red'>งานที่ 0</font>: งานเดิม ๆ ที่แสนสบาย, import libs\n",
    "เราจะเริ่มจากการอิมพอร์ตโมดูลเดิมเข้ามาพร้อมกับโหลดฐานข้อมูล CIFAR10"
   ]
  },
  {
   "cell_type": "code",
   "execution_count": 1,
   "metadata": {
    "colab": {
     "base_uri": "https://localhost:8080/",
     "height": 233
    },
    "id": "ch-M8tt3IFvH",
    "outputId": "144e2307-fe83-4fb7-e670-61c99e5c2664"
   },
   "outputs": [
    {
     "name": "stderr",
     "output_type": "stream",
     "text": [
      "2024-08-15 10:18:32.362707: I tensorflow/core/platform/cpu_feature_guard.cc:210] This TensorFlow binary is optimized to use available CPU instructions in performance-critical operations.\n",
      "To enable the following instructions: AVX2 FMA, in other operations, rebuild TensorFlow with the appropriate compiler flags.\n"
     ]
    },
    {
     "name": "stdout",
     "output_type": "stream",
     "text": [
      "2.17.0-dev20240601\n",
      "Downloading data from https://www.cs.toronto.edu/~kriz/cifar-10-python.tar.gz\n",
      "\u001b[1m170498071/170498071\u001b[0m \u001b[32m━━━━━━━━━━━━━━━━━━━━\u001b[0m\u001b[37m\u001b[0m \u001b[1m56s\u001b[0m 0us/step\n"
     ]
    }
   ],
   "source": [
    "# [Your Work] Import modules here\n",
    "import tensorflow as tf\n",
    "import tensorflow.keras as keras\n",
    "\n",
    "import numpy as np\n",
    "import matplotlib.pyplot as plt\n",
    "print(tf.__version__)\n",
    "\n",
    "# gpus = tf.config.experimental.list_physical_devices('GPU')\n",
    "# tf.config.experimental.set_virtual_device_configuration(gpus[0],\n",
    "#   [tf.config.experimental.VirtualDeviceConfiguration(memory_limit=3096)])\n",
    "\n",
    "\n",
    "# [Your Work] Load CIFAR10 data into tuples\n",
    "CIFAR10 = keras.datasets.cifar10\n",
    "tuples = keras.datasets.cifar10\n",
    "(train_images, train_labels), (test_images, test_labels) = tuples.load_data()\n",
    "train_images = train_images.astype(np.float32) / 255\n",
    "test_images = test_images.astype(np.float32) / 255\n"
   ]
  },
  {
   "cell_type": "markdown",
   "metadata": {
    "id": "WdJaJJ_bIFvJ"
   },
   "source": [
    "## <font color='red'>งานที่ 1</font>: สร้างและฝึกตัวแบบ\n",
    "ในงานนี้ เราจะสร้างและฝึกตัวแบบเชิงลำดับ (Sequential) คือข้อมูลจะเดินหน้ากันอย่างเดียว ไม่มีย้อนกลับวนไปมา นอกจากนี้ตัวแบบจะส่งข้อมูลเดินหน้าไปชั้นที่ติดกันเท่านั้นด้วย แน่นอนว่า เราจะเริ่มจากตัวแบบที่มีชั้นซ่อนตัวเพียงหนึ่งชั้นเพื่อทำความคุ้นเคยกับเฟรมเวิร์คการเรียนรู้เชิงลึก TensorFlow และ Keras\n",
    "\n",
    "### <font color='red'>งานที่ 1.1</font>: การกำหนดโครงสร้างตัวแบบเชิงลำดับ (sequential) ที่ไม่มีชั้นซ่อนตัว\n",
    "ในตัวแบบโครงข่ายประสาทเทียม สิ่งที่เราต้องมีแน่ ๆ คือชั้นข้อมูลเข้า (input layer) และชั้นผลลัพธ์ (output layer) ส่วนชั้นซ่อนตัว (hidden layer) นั้นจะมีหรือไม่มีก็ได้ ถ้ามีจะมีกี่ชั้นก็ได้และจำนวนโหนดในชั้นซ่อนตัวเราจะกำหนดให้มีปริมาณเท่าใดก็ได้เช่นกัน (ตราบเท่าที่เครื่องของเรารับไหว)\n",
    "\n",
    "ซึ่งตัวอินพุตเลเยอร์นั้นจะต้องมีขนาดและรูปร่างสอดคล้องกับภาพทุกประการ ซึ่งรวมถึงจำนวนช่องสัญญาณสีด้วย (ในที่นี้คือ CIFAR10 มี 3 สี) ส่วนตัวของเอาต์พุตเลเยอร์นั้นจะมีจำนวนตามประเภท (class) ของสิ่งที่เราต้องการให้เครื่องทาย ซึ่งในที่นี้มีทั้งหมด 10 ประเภท ดังนั้นเอาต์พุตเลเยอร์ของเราจะมี 10 โหนดและโดยปรกติ 10 โหนดนี้จะแทนความน่าจะเป็นเชิงสัมพัทธ์ว่าภาพที่รับเข้ามามีความน่าจะเป็นที่จะอยู่ในแต่ละประเภทเท่าใด\n",
    "\n",
    "### เรื่องสำคัญ 1.1.a: Flatten สำหรับแปลงข้อมูลสองมิติให้เป็นเวคเตอร์ยาว ๆ\n",
    "ในตอนนี้เราต้องการเวคเตอร์คุณลักษณะ (feature vector) ที่เก็บค่าพิกเซลสีไว้ ในขณะที่รูปที่รับเข้ามาเป็นภาพสองมิติ ดังนั้นเราอาจจะต้องปรับขนาดมันให้เป็นเวคเตอร์ด้วย Flatten\n",
    "\n",
    "**หมายเหตุ** ตัว input_shape ของเราที่จริงเป็นสามมิติ เพราะมีเรื่่องของช่องสัญญาณสีมาเกี่ยวข้องด้วย ถ้าเราอยากรู้ว่าตัว input_shape ของเราควรมีค่าเป็นเท่าใด ให้สังเกตจาก train_images.shape ที่เราทำในการบ้านที่แล้ว (อย่าลืมตัดเลข 50,000 ที่แทนจำนวนภาพออกด้วยนะ เพราะโครงข่ายของเราจัดการภาพทีละภาพ ไม่ใช่ทีละ 50,000 ภาพ)\n",
    "\n",
    "### เรื่องสำคัญ 1.1.b: Dense เป็นเลเยอร์แบบพื้นฐาน ซึ่งนิยมใช้ในชั้นข้อมูลเข้า\n",
    "นอกจากนี้ชั้นซ่อนตัวจะเป็น Dense ก็ได้ด้วย แต่ก็ขึ้นอยู่กับวิธีการที่เราสนใจจะใช้ ในสาขาด้านการประมวลผลภาพ เรามักจะพบชั้นซ่อนตัวชนิดอื่นบ่อยกว่าชั้น Dense อย่างไรก็ตามในการบ้านนี้ เราจะใช้ Dense ทั้งในชั้นซ่อนตัวและชั้นผลลัพธ์ ทั้งนี้งานที่ 1.1 ยังไม่มีชั้นซ่อนตัว เราจะเชื่อมชั้นข้อมูลเข้ากับชั้นผลลัพธ์โดยตรง (คือเป็นชั้นสองชั้นที่ติดกัน)\n",
    "\n",
    "### เรื่องสำคัญ 1.1.c: อย่าลืมกำหนด activation function ของชั้น output ให้เป็นแบบ tf.nn.softmax\n",
    "เนื่องจากงานนี้เป็นการแยกประเภทวัตถุ (classification) การเลือกใช้ activation function เป็นแบบ softmax นับเป็นทางเลือกที่เราควรพิจารณาเป็นทางแรก"
   ]
  },
  {
   "cell_type": "code",
   "execution_count": 8,
   "metadata": {
    "colab": {
     "base_uri": "https://localhost:8080/"
    },
    "id": "JxGrA2T7IFvJ",
    "outputId": "59dede63-7f1e-49b9-f26d-d2bbd075537f"
   },
   "outputs": [],
   "source": [
    "# [Your Work] Create a model here\n",
    "model = keras.Sequential([\n",
    "    keras.layers.Flatten(input_shape=(32, 32, 3)),\n",
    "    keras.layers.Dense(10, activation=tf.nn.softmax)\n",
    "])"
   ]
  },
  {
   "cell_type": "markdown",
   "metadata": {
    "id": "NP2g5HUKIFvJ"
   },
   "source": [
    "### <font color='red'>งานที่ 1.2</font>: คอมไพล์โมเดลพร้อมกำหนด Optimizer\n",
    "ในการทำให้โมเดลอยู่ในสภาพร้อมใช้งาน เราจะต้องคอมไพล์มันก่อน ซึ่งในขั้นตอนนี้เราจะต้องกำหนด Optmizer และเป้าหมายในการวัดสมรรถนะ (loss และ metrics) ในที่นี้เราจะใช้ตัวออปทิไมเซอร์แบบ Adam, ค่า loss แบบ sparse categorial crossentropy (อย่าลืมคำว่า sparse) และ metrics ที่เราจะให้เครื่องรายงานมาคือ accuracy\n",
    "\n",
    "นอกจากนี้เพื่อให้แน่ใจว่าโครงสร้างของโครงข่ายที่ได้มาสอดคล้องกับความต้องการของเรา เราจะใช้คำสั่ง summary() ตรวจดูโครงสร้างที่ได้มาด้วย (ถ้าโมเดลเราถูกต้อง จำนวนพารามิเตอร์ทั้งหมด (Total params) ควรจะเป็น 30,730 ตัว)"
   ]
  },
  {
   "cell_type": "code",
   "execution_count": 11,
   "metadata": {
    "colab": {
     "base_uri": "https://localhost:8080/",
     "height": 199
    },
    "id": "qHXsp_CbIFvK",
    "outputId": "c3dafb0d-f17b-4414-cf23-480766f55781"
   },
   "outputs": [
    {
     "data": {
      "text/html": [
       "<pre style=\"white-space:pre;overflow-x:auto;line-height:normal;font-family:Menlo,'DejaVu Sans Mono',consolas,'Courier New',monospace\"><span style=\"font-weight: bold\">Model: \"sequential_2\"</span>\n",
       "</pre>\n"
      ],
      "text/plain": [
       "\u001b[1mModel: \"sequential_2\"\u001b[0m\n"
      ]
     },
     "metadata": {},
     "output_type": "display_data"
    },
    {
     "data": {
      "text/html": [
       "<pre style=\"white-space:pre;overflow-x:auto;line-height:normal;font-family:Menlo,'DejaVu Sans Mono',consolas,'Courier New',monospace\">┏━━━━━━━━━━━━━━━━━━━━━━━━━━━━━━━━━┳━━━━━━━━━━━━━━━━━━━━━━━━┳━━━━━━━━━━━━━━━┓\n",
       "┃<span style=\"font-weight: bold\"> Layer (type)                    </span>┃<span style=\"font-weight: bold\"> Output Shape           </span>┃<span style=\"font-weight: bold\">       Param # </span>┃\n",
       "┡━━━━━━━━━━━━━━━━━━━━━━━━━━━━━━━━━╇━━━━━━━━━━━━━━━━━━━━━━━━╇━━━━━━━━━━━━━━━┩\n",
       "│ flatten_2 (<span style=\"color: #0087ff; text-decoration-color: #0087ff\">Flatten</span>)             │ (<span style=\"color: #00d7ff; text-decoration-color: #00d7ff\">None</span>, <span style=\"color: #00af00; text-decoration-color: #00af00\">3072</span>)           │             <span style=\"color: #00af00; text-decoration-color: #00af00\">0</span> │\n",
       "├─────────────────────────────────┼────────────────────────┼───────────────┤\n",
       "│ dense_2 (<span style=\"color: #0087ff; text-decoration-color: #0087ff\">Dense</span>)                 │ (<span style=\"color: #00d7ff; text-decoration-color: #00d7ff\">None</span>, <span style=\"color: #00af00; text-decoration-color: #00af00\">10</span>)             │        <span style=\"color: #00af00; text-decoration-color: #00af00\">30,730</span> │\n",
       "└─────────────────────────────────┴────────────────────────┴───────────────┘\n",
       "</pre>\n"
      ],
      "text/plain": [
       "┏━━━━━━━━━━━━━━━━━━━━━━━━━━━━━━━━━┳━━━━━━━━━━━━━━━━━━━━━━━━┳━━━━━━━━━━━━━━━┓\n",
       "┃\u001b[1m \u001b[0m\u001b[1mLayer (type)                   \u001b[0m\u001b[1m \u001b[0m┃\u001b[1m \u001b[0m\u001b[1mOutput Shape          \u001b[0m\u001b[1m \u001b[0m┃\u001b[1m \u001b[0m\u001b[1m      Param #\u001b[0m\u001b[1m \u001b[0m┃\n",
       "┡━━━━━━━━━━━━━━━━━━━━━━━━━━━━━━━━━╇━━━━━━━━━━━━━━━━━━━━━━━━╇━━━━━━━━━━━━━━━┩\n",
       "│ flatten_2 (\u001b[38;5;33mFlatten\u001b[0m)             │ (\u001b[38;5;45mNone\u001b[0m, \u001b[38;5;34m3072\u001b[0m)           │             \u001b[38;5;34m0\u001b[0m │\n",
       "├─────────────────────────────────┼────────────────────────┼───────────────┤\n",
       "│ dense_2 (\u001b[38;5;33mDense\u001b[0m)                 │ (\u001b[38;5;45mNone\u001b[0m, \u001b[38;5;34m10\u001b[0m)             │        \u001b[38;5;34m30,730\u001b[0m │\n",
       "└─────────────────────────────────┴────────────────────────┴───────────────┘\n"
      ]
     },
     "metadata": {},
     "output_type": "display_data"
    },
    {
     "data": {
      "text/html": [
       "<pre style=\"white-space:pre;overflow-x:auto;line-height:normal;font-family:Menlo,'DejaVu Sans Mono',consolas,'Courier New',monospace\"><span style=\"font-weight: bold\"> Total params: </span><span style=\"color: #00af00; text-decoration-color: #00af00\">30,730</span> (120.04 KB)\n",
       "</pre>\n"
      ],
      "text/plain": [
       "\u001b[1m Total params: \u001b[0m\u001b[38;5;34m30,730\u001b[0m (120.04 KB)\n"
      ]
     },
     "metadata": {},
     "output_type": "display_data"
    },
    {
     "data": {
      "text/html": [
       "<pre style=\"white-space:pre;overflow-x:auto;line-height:normal;font-family:Menlo,'DejaVu Sans Mono',consolas,'Courier New',monospace\"><span style=\"font-weight: bold\"> Trainable params: </span><span style=\"color: #00af00; text-decoration-color: #00af00\">30,730</span> (120.04 KB)\n",
       "</pre>\n"
      ],
      "text/plain": [
       "\u001b[1m Trainable params: \u001b[0m\u001b[38;5;34m30,730\u001b[0m (120.04 KB)\n"
      ]
     },
     "metadata": {},
     "output_type": "display_data"
    },
    {
     "data": {
      "text/html": [
       "<pre style=\"white-space:pre;overflow-x:auto;line-height:normal;font-family:Menlo,'DejaVu Sans Mono',consolas,'Courier New',monospace\"><span style=\"font-weight: bold\"> Non-trainable params: </span><span style=\"color: #00af00; text-decoration-color: #00af00\">0</span> (0.00 B)\n",
       "</pre>\n"
      ],
      "text/plain": [
       "\u001b[1m Non-trainable params: \u001b[0m\u001b[38;5;34m0\u001b[0m (0.00 B)\n"
      ]
     },
     "metadata": {},
     "output_type": "display_data"
    }
   ],
   "source": [
    "# [Your Work] Compile and config optimizer here\n",
    "model.compile(optimizer=keras.optimizers.Adam(),\n",
    "              loss='sparse_categorical_crossentropy',\n",
    "              metrics=['accuracy'])\n",
    "\n",
    "\n",
    "# [Your Work] Do not forget to check your model via summary()\n",
    "model.summary()"
   ]
  },
  {
   "cell_type": "markdown",
   "metadata": {
    "id": "6NN4C-GbIFvK"
   },
   "source": [
    "เอาล่ะ มาลองฝึกโมเดลด้วยคำสั่ง fit กัน โดยให้ส่งเฉพาะ train_images และ train_labels ไปฝึก (ไม่ต้องใช้ validation data) ส่วนจำนวน epochs จัดไปที่ 5 รอบก็พอ"
   ]
  },
  {
   "cell_type": "code",
   "execution_count": 14,
   "metadata": {
    "colab": {
     "base_uri": "https://localhost:8080/"
    },
    "id": "eKKdIPziIFvK",
    "outputId": "aa2904c9-1cd1-4a47-8b0c-b3952e92cba5"
   },
   "outputs": [
    {
     "name": "stdout",
     "output_type": "stream",
     "text": [
      "Epoch 1/5\n",
      "\u001b[1m1563/1563\u001b[0m \u001b[32m━━━━━━━━━━━━━━━━━━━━\u001b[0m\u001b[37m\u001b[0m \u001b[1m3s\u001b[0m 1ms/step - accuracy: 0.2838 - loss: 2.0364\n",
      "Epoch 2/5\n",
      "\u001b[1m1563/1563\u001b[0m \u001b[32m━━━━━━━━━━━━━━━━━━━━\u001b[0m\u001b[37m\u001b[0m \u001b[1m2s\u001b[0m 1ms/step - accuracy: 0.3442 - loss: 1.8982\n",
      "Epoch 3/5\n",
      "\u001b[1m1563/1563\u001b[0m \u001b[32m━━━━━━━━━━━━━━━━━━━━\u001b[0m\u001b[37m\u001b[0m \u001b[1m2s\u001b[0m 1ms/step - accuracy: 0.3582 - loss: 1.8581\n",
      "Epoch 4/5\n",
      "\u001b[1m1563/1563\u001b[0m \u001b[32m━━━━━━━━━━━━━━━━━━━━\u001b[0m\u001b[37m\u001b[0m \u001b[1m2s\u001b[0m 1ms/step - accuracy: 0.3718 - loss: 1.8349\n",
      "Epoch 5/5\n",
      "\u001b[1m1563/1563\u001b[0m \u001b[32m━━━━━━━━━━━━━━━━━━━━\u001b[0m\u001b[37m\u001b[0m \u001b[1m2s\u001b[0m 1ms/step - accuracy: 0.3792 - loss: 1.8218\n"
     ]
    }
   ],
   "source": [
    "# [Your Work] fit a model with train images and labels for 5 epochs\n",
    "# No need to use test data here. We just need to\n",
    "hist = model.fit(train_images, train_labels, epochs=5)"
   ]
  },
  {
   "cell_type": "markdown",
   "metadata": {
    "id": "NYv7H-rqGWly"
   },
   "source": []
  },
  {
   "cell_type": "markdown",
   "metadata": {
    "id": "G0PEgiYTIFvK"
   },
   "source": [
    "### <font color='red'>งานที่ 1.3</font>: ไขปริศนา ทำไมค่า accuracy มันถึงได้แย่นัก?\n",
    "นี่ขนาดเป็นผลลัพธ์จากฅข้อมูลฝึก ไม่ใช่ข้อมูลทดสอบ ความแม่นยำยังได้แค่ประมาณ 10% (ค่า acc) ซึ่งเท่ากับการเดาสุ่มมั่ว แบบนี้ต้องมีอะไรผิดพลาดแน่นอน หรือว่าเป็นเพราะตัวแบบเราง่ายเกินไป? ไม่หรอก ต่อให้ตัวแบบง่ายยังไง มันก็น่าจะได้ผลลัพธ์ที่ดีกว่าเดาสุ่ม เพราะเอาเข้าจริง ๆ จำนวนพารามิเตอร์ที่มีอยู่ในตัวแบบก็ใช่ว่าจะน้อยจนหาประโยชน์อะไรไม่ได้\n",
    "\n",
    "วกกลับไปเนื้อหาที่เราเรียนมาก่อนหน้า จำได้ไหมว่าค่าฟีทเจอร์ต่าง ๆ ควรจะเป็นเลขทิศนิยมอยู่ในช่วง 0 ถึง 1 (หรือ -1 ถึง 1) ซึ่งขั้นตอนนี้เราเรียกว่า feature normalization ยิ่งไปกว่านั้นแท้จริง feature normalization มีหลายชนิดและสามารถทำได้หลายแบบ ไม่เฉพาะการจำกัดค่าในช่วง 0 ถึง 1 แบบนี้เท่านั้น (แต่วิธีนี้ถือว่าง่ายที่สุด)\n",
    "\n",
    "จงทำการ normalize ค่าข้อมูลในชุดฝึกและทดสอบผ่านการหารด้วยเลข 255.0"
   ]
  },
  {
   "cell_type": "code",
   "execution_count": 18,
   "metadata": {
    "id": "2VHfzDDxIFvL"
   },
   "outputs": [],
   "source": [
    "#[Your Work] Divde train and test sets with 255.0\n",
    "train_images = train_images.astype('float32') / 255.0\n",
    "test_images = test_images.astype('float32') / 255.0"
   ]
  },
  {
   "cell_type": "markdown",
   "metadata": {
    "id": "toUTQOogIFvL"
   },
   "source": [
    "### <font color='red'>Quick Quiz</font>: ทำไมต้องหารด้วย 255 จงอธิบายเหตุผล\n",
    "ทำไมเราเลือกหารด้วย 255"
   ]
  },
  {
   "cell_type": "markdown",
   "metadata": {
    "id": "ztpxiA5qIFvL"
   },
   "source": [
    " <font color='blue'>(พื้นที่สำหรับเติมคำตอบ) </font><br/>\n"
   ]
  },
  {
   "cell_type": "markdown",
   "metadata": {
    "id": "bD2YhBAgIFvL"
   },
   "source": [
    "###  <font color='red'>งานที่ 1.3.2</font>: ลอง fit ตัวแบบกันอีกรอบ\n",
    "ให้นำโค้ดที่เราใช้ตอน fit ตัวแบบมาใส่ไว้ตรงนี้ พร้อมกับลองรันดูอีกรอบ สังเกตด้วยว่าการ normalize data ส่งผลต่อความแม่นยำที่ได้จริง ดังนั้นถ้าความแม่นยำที่ได้ของเรามันดูแปลก ๆ อย่าลืมตรวจด้วยว่าเรา normalize data อย่างถูกต้องแล้วหรือยัง เช่นเดิม ทำเพียง 5 epochs ก็เพียงพอแล้ว"
   ]
  },
  {
   "cell_type": "code",
   "execution_count": 23,
   "metadata": {
    "colab": {
     "base_uri": "https://localhost:8080/"
    },
    "id": "qgzU631FIFvL",
    "outputId": "c3079001-2da2-4718-9119-f9b9f44b7610"
   },
   "outputs": [
    {
     "name": "stdout",
     "output_type": "stream",
     "text": [
      "Epoch 1/5\n",
      "\u001b[1m1563/1563\u001b[0m \u001b[32m━━━━━━━━━━━━━━━━━━━━\u001b[0m\u001b[37m\u001b[0m \u001b[1m2s\u001b[0m 2ms/step - accuracy: 0.1221 - loss: 2.3153\n",
      "Epoch 2/5\n",
      "\u001b[1m1563/1563\u001b[0m \u001b[32m━━━━━━━━━━━━━━━━━━━━\u001b[0m\u001b[37m\u001b[0m \u001b[1m2s\u001b[0m 1ms/step - accuracy: 0.1989 - loss: 2.2940\n",
      "Epoch 3/5\n",
      "\u001b[1m1563/1563\u001b[0m \u001b[32m━━━━━━━━━━━━━━━━━━━━\u001b[0m\u001b[37m\u001b[0m \u001b[1m2s\u001b[0m 1ms/step - accuracy: 0.2033 - loss: 2.2902\n",
      "Epoch 4/5\n",
      "\u001b[1m1563/1563\u001b[0m \u001b[32m━━━━━━━━━━━━━━━━━━━━\u001b[0m\u001b[37m\u001b[0m \u001b[1m2s\u001b[0m 1ms/step - accuracy: 0.2319 - loss: 2.2829\n",
      "Epoch 5/5\n",
      "\u001b[1m1563/1563\u001b[0m \u001b[32m━━━━━━━━━━━━━━━━━━━━\u001b[0m\u001b[37m\u001b[0m \u001b[1m2s\u001b[0m 1ms/step - accuracy: 0.2614 - loss: 2.2688\n"
     ]
    }
   ],
   "source": [
    "# [Your Work] fit a model with train images and labels for 5 epochs\n",
    "# No need to use test data here. We use only train_images and train_labels.\n",
    "\n",
    "hist = model.fit(train_images, train_labels, epochs=5)"
   ]
  },
  {
   "cell_type": "markdown",
   "metadata": {
    "id": "1wXRZLVFIFvL"
   },
   "source": [
    "## <font color='red'>งานที่ 1.4</font>: สร้างชั้นซ่อนตัวแบบ Dense (Hidden  Layer)\n",
    "ในตัวแบบที่ผ่านมา เราไม่ได้สร้างชั้นซ่อนตัวขึ้นมาเลย ซึ่งโดยปรกติตัวแบบเชิงลึกจะมีชั้นซ่อนตัวอย่างน้อยสองชั้น แต่ในที่นี้เราต้องการสร้างเพียงชั้นเดียวเพื่อศึกษาประโยชน์ของมันก่อน\n",
    "\n",
    "จงสร้างชั้นซ่อนตัวที่มีโหนดจำนวน 200 โหนด และไม่มีการใช้ activation function ในชั้นซ่อนตัว (ใช้ softmax กับชั้นผลลัพธ์เช่นเดิม)"
   ]
  },
  {
   "cell_type": "code",
   "execution_count": 26,
   "metadata": {
    "colab": {
     "base_uri": "https://localhost:8080/"
    },
    "id": "K-oBcyy5IFvM",
    "outputId": "1a91cdde-fc62-40a1-a367-e97c209ebe73"
   },
   "outputs": [],
   "source": [
    "# [Your Work] Add a hidden layer with 200 nodes, 'no activation function.'\n",
    "\n",
    "model = keras.Sequential([\n",
    "    keras.layers.Flatten(input_shape=(32, 32, 3)),\n",
    "    keras.layers.Dense(200),\n",
    "    keras.layers.Dense(10, activation=tf.nn.softmax)\n",
    "])\n",
    "\n"
   ]
  },
  {
   "cell_type": "code",
   "execution_count": 28,
   "metadata": {
    "colab": {
     "base_uri": "https://localhost:8080/",
     "height": 232
    },
    "id": "B7CM1vswIFvM",
    "outputId": "b0951325-9892-4638-ed88-3cca1f1e651c"
   },
   "outputs": [
    {
     "data": {
      "text/html": [
       "<pre style=\"white-space:pre;overflow-x:auto;line-height:normal;font-family:Menlo,'DejaVu Sans Mono',consolas,'Courier New',monospace\"><span style=\"font-weight: bold\">Model: \"sequential_3\"</span>\n",
       "</pre>\n"
      ],
      "text/plain": [
       "\u001b[1mModel: \"sequential_3\"\u001b[0m\n"
      ]
     },
     "metadata": {},
     "output_type": "display_data"
    },
    {
     "data": {
      "text/html": [
       "<pre style=\"white-space:pre;overflow-x:auto;line-height:normal;font-family:Menlo,'DejaVu Sans Mono',consolas,'Courier New',monospace\">┏━━━━━━━━━━━━━━━━━━━━━━━━━━━━━━━━━┳━━━━━━━━━━━━━━━━━━━━━━━━┳━━━━━━━━━━━━━━━┓\n",
       "┃<span style=\"font-weight: bold\"> Layer (type)                    </span>┃<span style=\"font-weight: bold\"> Output Shape           </span>┃<span style=\"font-weight: bold\">       Param # </span>┃\n",
       "┡━━━━━━━━━━━━━━━━━━━━━━━━━━━━━━━━━╇━━━━━━━━━━━━━━━━━━━━━━━━╇━━━━━━━━━━━━━━━┩\n",
       "│ flatten_3 (<span style=\"color: #0087ff; text-decoration-color: #0087ff\">Flatten</span>)             │ (<span style=\"color: #00d7ff; text-decoration-color: #00d7ff\">None</span>, <span style=\"color: #00af00; text-decoration-color: #00af00\">3072</span>)           │             <span style=\"color: #00af00; text-decoration-color: #00af00\">0</span> │\n",
       "├─────────────────────────────────┼────────────────────────┼───────────────┤\n",
       "│ dense_3 (<span style=\"color: #0087ff; text-decoration-color: #0087ff\">Dense</span>)                 │ (<span style=\"color: #00d7ff; text-decoration-color: #00d7ff\">None</span>, <span style=\"color: #00af00; text-decoration-color: #00af00\">200</span>)            │       <span style=\"color: #00af00; text-decoration-color: #00af00\">614,600</span> │\n",
       "├─────────────────────────────────┼────────────────────────┼───────────────┤\n",
       "│ dense_4 (<span style=\"color: #0087ff; text-decoration-color: #0087ff\">Dense</span>)                 │ (<span style=\"color: #00d7ff; text-decoration-color: #00d7ff\">None</span>, <span style=\"color: #00af00; text-decoration-color: #00af00\">10</span>)             │         <span style=\"color: #00af00; text-decoration-color: #00af00\">2,010</span> │\n",
       "└─────────────────────────────────┴────────────────────────┴───────────────┘\n",
       "</pre>\n"
      ],
      "text/plain": [
       "┏━━━━━━━━━━━━━━━━━━━━━━━━━━━━━━━━━┳━━━━━━━━━━━━━━━━━━━━━━━━┳━━━━━━━━━━━━━━━┓\n",
       "┃\u001b[1m \u001b[0m\u001b[1mLayer (type)                   \u001b[0m\u001b[1m \u001b[0m┃\u001b[1m \u001b[0m\u001b[1mOutput Shape          \u001b[0m\u001b[1m \u001b[0m┃\u001b[1m \u001b[0m\u001b[1m      Param #\u001b[0m\u001b[1m \u001b[0m┃\n",
       "┡━━━━━━━━━━━━━━━━━━━━━━━━━━━━━━━━━╇━━━━━━━━━━━━━━━━━━━━━━━━╇━━━━━━━━━━━━━━━┩\n",
       "│ flatten_3 (\u001b[38;5;33mFlatten\u001b[0m)             │ (\u001b[38;5;45mNone\u001b[0m, \u001b[38;5;34m3072\u001b[0m)           │             \u001b[38;5;34m0\u001b[0m │\n",
       "├─────────────────────────────────┼────────────────────────┼───────────────┤\n",
       "│ dense_3 (\u001b[38;5;33mDense\u001b[0m)                 │ (\u001b[38;5;45mNone\u001b[0m, \u001b[38;5;34m200\u001b[0m)            │       \u001b[38;5;34m614,600\u001b[0m │\n",
       "├─────────────────────────────────┼────────────────────────┼───────────────┤\n",
       "│ dense_4 (\u001b[38;5;33mDense\u001b[0m)                 │ (\u001b[38;5;45mNone\u001b[0m, \u001b[38;5;34m10\u001b[0m)             │         \u001b[38;5;34m2,010\u001b[0m │\n",
       "└─────────────────────────────────┴────────────────────────┴───────────────┘\n"
      ]
     },
     "metadata": {},
     "output_type": "display_data"
    },
    {
     "data": {
      "text/html": [
       "<pre style=\"white-space:pre;overflow-x:auto;line-height:normal;font-family:Menlo,'DejaVu Sans Mono',consolas,'Courier New',monospace\"><span style=\"font-weight: bold\"> Total params: </span><span style=\"color: #00af00; text-decoration-color: #00af00\">616,610</span> (2.35 MB)\n",
       "</pre>\n"
      ],
      "text/plain": [
       "\u001b[1m Total params: \u001b[0m\u001b[38;5;34m616,610\u001b[0m (2.35 MB)\n"
      ]
     },
     "metadata": {},
     "output_type": "display_data"
    },
    {
     "data": {
      "text/html": [
       "<pre style=\"white-space:pre;overflow-x:auto;line-height:normal;font-family:Menlo,'DejaVu Sans Mono',consolas,'Courier New',monospace\"><span style=\"font-weight: bold\"> Trainable params: </span><span style=\"color: #00af00; text-decoration-color: #00af00\">616,610</span> (2.35 MB)\n",
       "</pre>\n"
      ],
      "text/plain": [
       "\u001b[1m Trainable params: \u001b[0m\u001b[38;5;34m616,610\u001b[0m (2.35 MB)\n"
      ]
     },
     "metadata": {},
     "output_type": "display_data"
    },
    {
     "data": {
      "text/html": [
       "<pre style=\"white-space:pre;overflow-x:auto;line-height:normal;font-family:Menlo,'DejaVu Sans Mono',consolas,'Courier New',monospace\"><span style=\"font-weight: bold\"> Non-trainable params: </span><span style=\"color: #00af00; text-decoration-color: #00af00\">0</span> (0.00 B)\n",
       "</pre>\n"
      ],
      "text/plain": [
       "\u001b[1m Non-trainable params: \u001b[0m\u001b[38;5;34m0\u001b[0m (0.00 B)\n"
      ]
     },
     "metadata": {},
     "output_type": "display_data"
    }
   ],
   "source": [
    "# [Your Work] พื้นที่สำหรับคอมไพล์และสรุปตัวแบบ (ให้ใช้โค้ดเดิมที่อยู่ข้างบนมาแปะใส่ได้เลย)\n",
    "# (ถ้าโมเดลเราถูกต้อง จำนวนพารามิเตอร์ทั้งหมด (Total params) ควรจะเป็น 616,610 ตัว)\n",
    "model.compile(optimizer=keras.optimizers.Adam(),\n",
    "              loss='sparse_categorical_crossentropy',\n",
    "              metrics=['accuracy'])\n",
    "\n",
    "model.summary()\n"
   ]
  },
  {
   "cell_type": "code",
   "execution_count": 30,
   "metadata": {
    "colab": {
     "base_uri": "https://localhost:8080/"
    },
    "id": "3b1CVLB-IFvM",
    "outputId": "89303d68-6241-4f10-a1d3-fe5b7fa6bebc"
   },
   "outputs": [
    {
     "name": "stdout",
     "output_type": "stream",
     "text": [
      "Epoch 1/5\n",
      "\u001b[1m1563/1563\u001b[0m \u001b[32m━━━━━━━━━━━━━━━━━━━━\u001b[0m\u001b[37m\u001b[0m \u001b[1m12s\u001b[0m 7ms/step - accuracy: 0.2560 - loss: 2.0627\n",
      "Epoch 2/5\n",
      "\u001b[1m1563/1563\u001b[0m \u001b[32m━━━━━━━━━━━━━━━━━━━━\u001b[0m\u001b[37m\u001b[0m \u001b[1m11s\u001b[0m 7ms/step - accuracy: 0.3566 - loss: 1.8336\n",
      "Epoch 3/5\n",
      "\u001b[1m1563/1563\u001b[0m \u001b[32m━━━━━━━━━━━━━━━━━━━━\u001b[0m\u001b[37m\u001b[0m \u001b[1m11s\u001b[0m 7ms/step - accuracy: 0.3769 - loss: 1.7865\n",
      "Epoch 4/5\n",
      "\u001b[1m1563/1563\u001b[0m \u001b[32m━━━━━━━━━━━━━━━━━━━━\u001b[0m\u001b[37m\u001b[0m \u001b[1m11s\u001b[0m 7ms/step - accuracy: 0.3811 - loss: 1.7709\n",
      "Epoch 5/5\n",
      "\u001b[1m1563/1563\u001b[0m \u001b[32m━━━━━━━━━━━━━━━━━━━━\u001b[0m\u001b[37m\u001b[0m \u001b[1m11s\u001b[0m 7ms/step - accuracy: 0.3949 - loss: 1.7559\n"
     ]
    }
   ],
   "source": [
    "# [Your Work] fit a model with train images and labels for 5 epochs\n",
    "# Like before, no need to use test data here.\n",
    "hist = model.fit(train_images, train_labels, epochs=5)"
   ]
  },
  {
   "cell_type": "markdown",
   "metadata": {
    "id": "CyEDzmiWIFvN"
   },
   "source": [
    "### <font color='red'>Quick Quiz 1.4</font> : ความแม่นยำที่ได้จากโมเดลที่มีชั้นซ่อนตัวเพิ่มขึ้นหรือเปลี่ยนแปลงจากเดิมอย่างไร\n",
    "เปลี่ยนแปลงจากเดิมอย่างไร ทำไมจึงเป็นเช่นนั้น จงอภิปรายเหตุผลสนับสนุนข้อสังเกตที่พบ (ซึ่งคุณอาจจะอภิปรายได้ดีหากทำแบบฝึกหัดข้อที่อยู่ถัดไป)"
   ]
  },
  {
   "cell_type": "markdown",
   "metadata": {
    "id": "4LY0b36gIFvN"
   },
   "source": [
    " <font color='blue'>ทำให้ accuracy  </font><br/>\n",
    "\n"
   ]
  },
  {
   "cell_type": "markdown",
   "metadata": {
    "id": "Dm3HhofRIFvN"
   },
   "source": [
    "### <font color='red'>งานที่ 1.5</font>: ใช้ activation function กับชั้นซ่อนตัว\n",
    "ในแบบเรียนที่ผ่านมา เรามีการใช้ activation function บ่อย ๆ โดยเฉพาะฟังก์ชัน relu ดังนั้นเราจะเปลี่ยนตัวแบบนี้เพียงอย่างเดียวคือใส่ฟังก์ชัน relu ลงไปในชั้นซ่อนตัวด้วย (จากนั้นก็จะคอมไพล์และสรุปตัวแบบเช่นเดิมและฝึกโมเดลอีกครั้ง)\n",
    "\n",
    "คำอธิบายเพิ่มเติม: ให้มอง activation fuction นี้เหมือนตัวกรอก เช่น sofmax นั้นเป็นการกรองข้อมูลที่เป็นค่าบวกเท่านั้นที่จะผ่านไปยังเลเยอร์ถัดไป แล้วก่อนหน้านี้ไม่ได้กรองมันเกิดผลกระทบอะไร?"
   ]
  },
  {
   "cell_type": "code",
   "execution_count": 35,
   "metadata": {
    "id": "wX-6WZZ9IFvO"
   },
   "outputs": [],
   "source": [
    "# [Your Work] From the previous hidden layer with 200 nodes,\n",
    "#   now add tf.nn.relu as an activation function.\n",
    "model = keras.Sequential([\n",
    "    keras.layers.Flatten(input_shape=(32, 32, 3)),\n",
    "    keras.layers.Dense(200, activation=tf.nn.relu),\n",
    "    keras.layers.Dense(10, activation=tf.nn.softmax)\n",
    "])\n"
   ]
  },
  {
   "cell_type": "code",
   "execution_count": 37,
   "metadata": {
    "colab": {
     "base_uri": "https://localhost:8080/",
     "height": 232
    },
    "id": "CLIWnFaoIFvO",
    "outputId": "5c871f28-71f4-49bb-9c0c-a49d4b72fe96"
   },
   "outputs": [
    {
     "data": {
      "text/html": [
       "<pre style=\"white-space:pre;overflow-x:auto;line-height:normal;font-family:Menlo,'DejaVu Sans Mono',consolas,'Courier New',monospace\"><span style=\"font-weight: bold\">Model: \"sequential_4\"</span>\n",
       "</pre>\n"
      ],
      "text/plain": [
       "\u001b[1mModel: \"sequential_4\"\u001b[0m\n"
      ]
     },
     "metadata": {},
     "output_type": "display_data"
    },
    {
     "data": {
      "text/html": [
       "<pre style=\"white-space:pre;overflow-x:auto;line-height:normal;font-family:Menlo,'DejaVu Sans Mono',consolas,'Courier New',monospace\">┏━━━━━━━━━━━━━━━━━━━━━━━━━━━━━━━━━┳━━━━━━━━━━━━━━━━━━━━━━━━┳━━━━━━━━━━━━━━━┓\n",
       "┃<span style=\"font-weight: bold\"> Layer (type)                    </span>┃<span style=\"font-weight: bold\"> Output Shape           </span>┃<span style=\"font-weight: bold\">       Param # </span>┃\n",
       "┡━━━━━━━━━━━━━━━━━━━━━━━━━━━━━━━━━╇━━━━━━━━━━━━━━━━━━━━━━━━╇━━━━━━━━━━━━━━━┩\n",
       "│ flatten_4 (<span style=\"color: #0087ff; text-decoration-color: #0087ff\">Flatten</span>)             │ (<span style=\"color: #00d7ff; text-decoration-color: #00d7ff\">None</span>, <span style=\"color: #00af00; text-decoration-color: #00af00\">3072</span>)           │             <span style=\"color: #00af00; text-decoration-color: #00af00\">0</span> │\n",
       "├─────────────────────────────────┼────────────────────────┼───────────────┤\n",
       "│ dense_5 (<span style=\"color: #0087ff; text-decoration-color: #0087ff\">Dense</span>)                 │ (<span style=\"color: #00d7ff; text-decoration-color: #00d7ff\">None</span>, <span style=\"color: #00af00; text-decoration-color: #00af00\">200</span>)            │       <span style=\"color: #00af00; text-decoration-color: #00af00\">614,600</span> │\n",
       "├─────────────────────────────────┼────────────────────────┼───────────────┤\n",
       "│ dense_6 (<span style=\"color: #0087ff; text-decoration-color: #0087ff\">Dense</span>)                 │ (<span style=\"color: #00d7ff; text-decoration-color: #00d7ff\">None</span>, <span style=\"color: #00af00; text-decoration-color: #00af00\">10</span>)             │         <span style=\"color: #00af00; text-decoration-color: #00af00\">2,010</span> │\n",
       "└─────────────────────────────────┴────────────────────────┴───────────────┘\n",
       "</pre>\n"
      ],
      "text/plain": [
       "┏━━━━━━━━━━━━━━━━━━━━━━━━━━━━━━━━━┳━━━━━━━━━━━━━━━━━━━━━━━━┳━━━━━━━━━━━━━━━┓\n",
       "┃\u001b[1m \u001b[0m\u001b[1mLayer (type)                   \u001b[0m\u001b[1m \u001b[0m┃\u001b[1m \u001b[0m\u001b[1mOutput Shape          \u001b[0m\u001b[1m \u001b[0m┃\u001b[1m \u001b[0m\u001b[1m      Param #\u001b[0m\u001b[1m \u001b[0m┃\n",
       "┡━━━━━━━━━━━━━━━━━━━━━━━━━━━━━━━━━╇━━━━━━━━━━━━━━━━━━━━━━━━╇━━━━━━━━━━━━━━━┩\n",
       "│ flatten_4 (\u001b[38;5;33mFlatten\u001b[0m)             │ (\u001b[38;5;45mNone\u001b[0m, \u001b[38;5;34m3072\u001b[0m)           │             \u001b[38;5;34m0\u001b[0m │\n",
       "├─────────────────────────────────┼────────────────────────┼───────────────┤\n",
       "│ dense_5 (\u001b[38;5;33mDense\u001b[0m)                 │ (\u001b[38;5;45mNone\u001b[0m, \u001b[38;5;34m200\u001b[0m)            │       \u001b[38;5;34m614,600\u001b[0m │\n",
       "├─────────────────────────────────┼────────────────────────┼───────────────┤\n",
       "│ dense_6 (\u001b[38;5;33mDense\u001b[0m)                 │ (\u001b[38;5;45mNone\u001b[0m, \u001b[38;5;34m10\u001b[0m)             │         \u001b[38;5;34m2,010\u001b[0m │\n",
       "└─────────────────────────────────┴────────────────────────┴───────────────┘\n"
      ]
     },
     "metadata": {},
     "output_type": "display_data"
    },
    {
     "data": {
      "text/html": [
       "<pre style=\"white-space:pre;overflow-x:auto;line-height:normal;font-family:Menlo,'DejaVu Sans Mono',consolas,'Courier New',monospace\"><span style=\"font-weight: bold\"> Total params: </span><span style=\"color: #00af00; text-decoration-color: #00af00\">616,610</span> (2.35 MB)\n",
       "</pre>\n"
      ],
      "text/plain": [
       "\u001b[1m Total params: \u001b[0m\u001b[38;5;34m616,610\u001b[0m (2.35 MB)\n"
      ]
     },
     "metadata": {},
     "output_type": "display_data"
    },
    {
     "data": {
      "text/html": [
       "<pre style=\"white-space:pre;overflow-x:auto;line-height:normal;font-family:Menlo,'DejaVu Sans Mono',consolas,'Courier New',monospace\"><span style=\"font-weight: bold\"> Trainable params: </span><span style=\"color: #00af00; text-decoration-color: #00af00\">616,610</span> (2.35 MB)\n",
       "</pre>\n"
      ],
      "text/plain": [
       "\u001b[1m Trainable params: \u001b[0m\u001b[38;5;34m616,610\u001b[0m (2.35 MB)\n"
      ]
     },
     "metadata": {},
     "output_type": "display_data"
    },
    {
     "data": {
      "text/html": [
       "<pre style=\"white-space:pre;overflow-x:auto;line-height:normal;font-family:Menlo,'DejaVu Sans Mono',consolas,'Courier New',monospace\"><span style=\"font-weight: bold\"> Non-trainable params: </span><span style=\"color: #00af00; text-decoration-color: #00af00\">0</span> (0.00 B)\n",
       "</pre>\n"
      ],
      "text/plain": [
       "\u001b[1m Non-trainable params: \u001b[0m\u001b[38;5;34m0\u001b[0m (0.00 B)\n"
      ]
     },
     "metadata": {},
     "output_type": "display_data"
    }
   ],
   "source": [
    "# [Your Work] พื้นที่สำหรับคอมไพล์และสรุปตัวแบบ (ให้ใช้โค้ดเดิมที่อยู่ข้างบนมาแปะใส่ได้เลย)\n",
    "model.compile(optimizer=keras.optimizers.Adam(),\n",
    "              loss='sparse_categorical_crossentropy',\n",
    "              metrics=['accuracy'])\n",
    "\n",
    "model.summary()\n"
   ]
  },
  {
   "cell_type": "markdown",
   "metadata": {
    "id": "Nb8hCkVaIFvO"
   },
   "source": [
    "### <font color='red'>Quick Quiz 1.5a</font>: เมื่อใช้ relu แล้วจำนวนพารามิเตอร์ในตัวแบบต่างไปจากเดิมหรือไม่\n",
    "จำนวนพารามิเตอร์ของตัวแบบเปลี่ยนไปจากเดิมหรือไม่ ทำไมจึงเป็นเช่นนั้น จงอภิปรายเหตุผลสนับสนุนข้อสังเกตที่พบ"
   ]
  },
  {
   "cell_type": "markdown",
   "metadata": {
    "id": "VurCUc1pIFvO"
   },
   "source": [
    "<font color='blue'>(พื้นที่สำหรับกรอก) </font><br/>\n"
   ]
  },
  {
   "cell_type": "code",
   "execution_count": 41,
   "metadata": {
    "colab": {
     "base_uri": "https://localhost:8080/"
    },
    "id": "VpS8XYLWIFvO",
    "outputId": "5ef9755f-b4c2-4bdc-bd9a-df6fa2f65d59"
   },
   "outputs": [
    {
     "name": "stdout",
     "output_type": "stream",
     "text": [
      "Epoch 1/5\n",
      "\u001b[1m1563/1563\u001b[0m \u001b[32m━━━━━━━━━━━━━━━━━━━━\u001b[0m\u001b[37m\u001b[0m \u001b[1m12s\u001b[0m 7ms/step - accuracy: 0.2261 - loss: 2.1189\n",
      "Epoch 2/5\n",
      "\u001b[1m1563/1563\u001b[0m \u001b[32m━━━━━━━━━━━━━━━━━━━━\u001b[0m\u001b[37m\u001b[0m \u001b[1m11s\u001b[0m 7ms/step - accuracy: 0.3332 - loss: 1.8805\n",
      "Epoch 3/5\n",
      "\u001b[1m1563/1563\u001b[0m \u001b[32m━━━━━━━━━━━━━━━━━━━━\u001b[0m\u001b[37m\u001b[0m \u001b[1m11s\u001b[0m 7ms/step - accuracy: 0.3568 - loss: 1.8163\n",
      "Epoch 4/5\n",
      "\u001b[1m1563/1563\u001b[0m \u001b[32m━━━━━━━━━━━━━━━━━━━━\u001b[0m\u001b[37m\u001b[0m \u001b[1m11s\u001b[0m 7ms/step - accuracy: 0.3782 - loss: 1.7562\n",
      "Epoch 5/5\n",
      "\u001b[1m1563/1563\u001b[0m \u001b[32m━━━━━━━━━━━━━━━━━━━━\u001b[0m\u001b[37m\u001b[0m \u001b[1m11s\u001b[0m 7ms/step - accuracy: 0.3914 - loss: 1.7208\n"
     ]
    }
   ],
   "source": [
    "# [Your Work] fit a model with train images and labels for 5 epochs\n",
    "# Like before, no need to use test data here.\n",
    "hist = model.fit(train_images, train_labels, epochs=5)\n"
   ]
  },
  {
   "cell_type": "markdown",
   "metadata": {
    "id": "Ym7M8tsJIFvO"
   },
   "source": [
    "### <font color='red'>Quick Quiz 1.5b</font>: การใช้ relu ทำให้ความแม่นยำเปลี่ยนไปประมาณกี่เปอร์เซ็นต์"
   ]
  },
  {
   "cell_type": "markdown",
   "metadata": {
    "id": "fCKCW4hWIFvP"
   },
   "source": [
    "# <font color='blue'>7% </font><br/>"
   ]
  },
  {
   "cell_type": "markdown",
   "metadata": {
    "id": "mMnCy6hdIFvP"
   },
   "source": [
    "## <font color='red'>งานที่ 2</font>: บันทึกและเรียกใช้ตัวแบบที่ผ่านการฝึกมาแล้ว\n",
    "ในงานที่ 1 เราฝึกโมเดลไปเพียง 5 รอบ และแต่ละรอบมีแนวโน้มว่าจะใช้เวลาไม่มากเพราะปริมาณข้อมูลไม่มากและตัวแบบเราไม่ซับซ้อน แต่ในการประยุกต์ใช้ในระยะหลังทั้งปริมาณข้อมูลและความซับซ้อนของตัวแบบนั้นถือว่าสูงมาก เช่น ImageNet มีภาพกว่า 14 ล้านภาพ และตัวแบบอย่าง ResNet มีชั้นซ่อนตัวหลายสิบหรือเกิน 100 ชั้น ทำให้การฝึกกินระยะเวลานานมาก ในบางงานวิจัยมีรายงานว่าฝึกตัวแบบกับชุดข้อมูล ImageNet กว่า 3 สัปดาห์\n",
    "\n",
    "เมื่อเป็นเช่นนี้ เราจึงจำเป็นที่จะต้องบันทึกตัวแบบไว้เป็นระยะในระหว่างการฝึก เพื่อให้สามารถนำตัวแบบไปฝึกต่อหรือนำตัวแบบไปให้ผู้ใช้โดยไม่ต้องฝึกซ้ำ ซึ่ง Keras สามารถบันทึกตัวแบบที่ฝึกแล้วได้โดยสะดวก โดยจะบันทึกในรูปแบบ HDF5\n",
    "\n",
    "สำหรับใครที่ยังไม่ได้ลง library: pip install pyyaml h5py <br>\n",
    "เมื่อลงเสร็จทำการ refresh หนึ่งที"
   ]
  },
  {
   "cell_type": "code",
   "execution_count": 63,
   "metadata": {
    "colab": {
     "base_uri": "https://localhost:8080/"
    },
    "id": "SX1_TuXqPS-y",
    "outputId": "edfc8160-6cf6-475c-d658-159039ff75ec"
   },
   "outputs": [
    {
     "name": "stdout",
     "output_type": "stream",
     "text": [
      "Requirement already satisfied: pyyaml in /opt/anaconda3/lib/python3.12/site-packages (6.0.1)\n",
      "Requirement already satisfied: h5py in /opt/anaconda3/lib/python3.12/site-packages (3.11.0)\n",
      "Requirement already satisfied: numpy>=1.17.3 in /opt/anaconda3/lib/python3.12/site-packages (from h5py) (1.26.4)\n",
      "\n",
      "\u001b[1m[\u001b[0m\u001b[34;49mnotice\u001b[0m\u001b[1;39;49m]\u001b[0m\u001b[39;49m A new release of pip is available: \u001b[0m\u001b[31;49m24.1.2\u001b[0m\u001b[39;49m -> \u001b[0m\u001b[32;49m24.2\u001b[0m\n",
      "\u001b[1m[\u001b[0m\u001b[34;49mnotice\u001b[0m\u001b[1;39;49m]\u001b[0m\u001b[39;49m To update, run: \u001b[0m\u001b[32;49mpip install --upgrade pip\u001b[0m\n"
     ]
    }
   ],
   "source": [
    "!pip install pyyaml h5py"
   ]
  },
  {
   "cell_type": "markdown",
   "metadata": {
    "id": "nR8x5IDlIFvP"
   },
   "source": [
    "### <font color='red'>งานที่ 2.1</font>: การบันทึกตัวแบบที่ฝึกแล้ว\n",
    "ตัวแบบทุกตัวของ Keras เป็นวัตถุที่มีฟังก์ชัน save ติดตัว เราสามารถระบุพาธและชื่อไฟล์ที่ต้องการเซฟได้เลย\n",
    "จงเรียกใช้ฟังก์ชัน save ของตัวแบบลงในไฟล์ที่ชื่อว่า trained_model.hdf5 ถ้าคุณสงสัยว่าจะเขียนโปรแกรมอย่างไรให้อ่านข้อมูลเพิ่มเติมได้ที่[ลิงค์นี้](https://keras.io/getting-started/faq/#how-can-i-save-a-keras-model)"
   ]
  },
  {
   "cell_type": "code",
   "execution_count": 92,
   "metadata": {
    "colab": {
     "base_uri": "https://localhost:8080/"
    },
    "id": "DUzLGSltIFvP",
    "outputId": "02398784-6dc6-44aa-f80c-3d49e850758b"
   },
   "outputs": [],
   "source": [
    "# [Your Work] Save a trained model to file trained_model.hdf5\n",
    "model.save('trained_model.keras')"
   ]
  },
  {
   "cell_type": "markdown",
   "metadata": {
    "id": "Pxy3BMToIFvP"
   },
   "source": [
    "#### ข้อความเตือนที่เกิดขึ้น\n",
    "ถ้าหากเราใช้ Optimizer จาก tf.train.AdamOptimizer() แทนที่จะเป็น keras.optimizers.Adam เราจะเจอข้อความเตือนแบบยาวเหยียด ดังนั้นถ้าเป็นไปได้ ให้ใช้ Optimizer ของตัว Keras เองจะดีที่สุด เพราะมันจะมีข้อมูลการฝึกบางอย่างที่หายไปและเราต้องเสียเวลาคอมไพล์ตัวแบบใหม่ อย่างไรก็ตามในกรณีตัวแบบที่แสนเรียบง่ายนี้ เราจะยังไม่ได้รับผลกระทบใด ๆ และเรายังไม่ต้องกังวลกับประเด็นนี้"
   ]
  },
  {
   "cell_type": "markdown",
   "metadata": {
    "id": "PcU9_77AIFvQ"
   },
   "source": [
    "### <font color='red'>งานที่ 2.2</font>: การโหลดตัวแบบที่บันทึกไว้ก่อนหน้า\n",
    "เราสามารถโหลดตัวแบบที่บันทึกไว้ได้โดยฟังก์ชัน load_model ซึ่งอยู่ใน keras.models (พูดง่าย ๆ ก็คือ เราจะเขียนโค้ดว่า keras.models.load_model หรืออะไรทำนองนี้) ให้ศึกษาข้อมูลจากลิงค์ที่ให้มาก่อนหน้าและโหลดตัวแบบที่บันทึกไว้ ซึ่งการโหลดนี้ให้โหลดไว้ในตัวแปรที่ชื่อ **<font color=\"blue\"> model2 (อย่าบันทึกทับตัวเดิม) </font>**"
   ]
  },
  {
   "cell_type": "code",
   "execution_count": 97,
   "metadata": {
    "id": "VcaVb9wjIFvQ"
   },
   "outputs": [
    {
     "name": "stderr",
     "output_type": "stream",
     "text": [
      "/opt/anaconda3/lib/python3.12/site-packages/keras/src/saving/saving_lib.py:690: UserWarning: Skipping variable loading for optimizer 'rmsprop', because it has 6 variables whereas the saved optimizer has 10 variables. \n",
      "  saveable.load_own_variables(weights_store.get(inner_path))\n"
     ]
    }
   ],
   "source": [
    "# [Your Work] load a saved model to variable model2\n",
    "# model2 =\n",
    "from keras.layers import Activation\n",
    "\n",
    "# กำหนดฟังก์ชันการทำงานให้กับ 'softmax_v2' ก่อนการโหลดโมเดล\n",
    "def softmax_v2(x):\n",
    "    return Activation('softmax')(x)\n",
    "keras.utils.get_custom_objects().update({'softmax_v2': softmax_v2})\n",
    "\n",
    "model2 = keras.models.load_model('trained_model.keras')"
   ]
  },
  {
   "cell_type": "markdown",
   "metadata": {
    "id": "KlwV92LKIFvQ"
   },
   "source": [
    "#### ถ้าพบ WARNING ตอนโหลด\n",
    "หากพบคำเตือนว่า 'WARNING:tensorflow:No training configuration found in save file: the model was *not* compiled. Compile it manually.' แสดงว่าตัวแบบเราใช้ Optimizer จาก tensorflow ไม่ได้มาจาก Keras ในกรณีเช่นนั้เราต้องสั่งคอมไพล์ตัวแบบใหม่อีกรอบ"
   ]
  },
  {
   "cell_type": "markdown",
   "metadata": {
    "id": "ea9rrJxRIFvQ"
   },
   "source": [
    "### <font color='red'>งานที่ 2.2.extra</font>: คอมไพล์ model2 ซ้ำ (ถ้าจำเป็น)\n",
    "ในกรณีที่คุณได้รับ WARNING ในตอนบันทึกและโหลดตัวแบบ ขอให้ทำการคอมไพล์ตัวแบบด้วยวิธีการเดิมที่ทำมาก่อนหน้าอีกครั้ง และอย่าลืมว่า **เราต้องคอมไพล์ model2 ไม่ใช่ model อันแรก**"
   ]
  },
  {
   "cell_type": "code",
   "execution_count": 99,
   "metadata": {
    "id": "3r69BFxbIFvQ"
   },
   "outputs": [
    {
     "data": {
      "text/html": [
       "<pre style=\"white-space:pre;overflow-x:auto;line-height:normal;font-family:Menlo,'DejaVu Sans Mono',consolas,'Courier New',monospace\"><span style=\"font-weight: bold\">Model: \"sequential_4\"</span>\n",
       "</pre>\n"
      ],
      "text/plain": [
       "\u001b[1mModel: \"sequential_4\"\u001b[0m\n"
      ]
     },
     "metadata": {},
     "output_type": "display_data"
    },
    {
     "data": {
      "text/html": [
       "<pre style=\"white-space:pre;overflow-x:auto;line-height:normal;font-family:Menlo,'DejaVu Sans Mono',consolas,'Courier New',monospace\">┏━━━━━━━━━━━━━━━━━━━━━━━━━━━━━━━━━┳━━━━━━━━━━━━━━━━━━━━━━━━┳━━━━━━━━━━━━━━━┓\n",
       "┃<span style=\"font-weight: bold\"> Layer (type)                    </span>┃<span style=\"font-weight: bold\"> Output Shape           </span>┃<span style=\"font-weight: bold\">       Param # </span>┃\n",
       "┡━━━━━━━━━━━━━━━━━━━━━━━━━━━━━━━━━╇━━━━━━━━━━━━━━━━━━━━━━━━╇━━━━━━━━━━━━━━━┩\n",
       "│ flatten_4 (<span style=\"color: #0087ff; text-decoration-color: #0087ff\">Flatten</span>)             │ (<span style=\"color: #00d7ff; text-decoration-color: #00d7ff\">None</span>, <span style=\"color: #00af00; text-decoration-color: #00af00\">3072</span>)           │             <span style=\"color: #00af00; text-decoration-color: #00af00\">0</span> │\n",
       "├─────────────────────────────────┼────────────────────────┼───────────────┤\n",
       "│ dense_5 (<span style=\"color: #0087ff; text-decoration-color: #0087ff\">Dense</span>)                 │ (<span style=\"color: #00d7ff; text-decoration-color: #00d7ff\">None</span>, <span style=\"color: #00af00; text-decoration-color: #00af00\">200</span>)            │       <span style=\"color: #00af00; text-decoration-color: #00af00\">614,600</span> │\n",
       "├─────────────────────────────────┼────────────────────────┼───────────────┤\n",
       "│ dense_6 (<span style=\"color: #0087ff; text-decoration-color: #0087ff\">Dense</span>)                 │ (<span style=\"color: #00d7ff; text-decoration-color: #00d7ff\">None</span>, <span style=\"color: #00af00; text-decoration-color: #00af00\">10</span>)             │         <span style=\"color: #00af00; text-decoration-color: #00af00\">2,010</span> │\n",
       "└─────────────────────────────────┴────────────────────────┴───────────────┘\n",
       "</pre>\n"
      ],
      "text/plain": [
       "┏━━━━━━━━━━━━━━━━━━━━━━━━━━━━━━━━━┳━━━━━━━━━━━━━━━━━━━━━━━━┳━━━━━━━━━━━━━━━┓\n",
       "┃\u001b[1m \u001b[0m\u001b[1mLayer (type)                   \u001b[0m\u001b[1m \u001b[0m┃\u001b[1m \u001b[0m\u001b[1mOutput Shape          \u001b[0m\u001b[1m \u001b[0m┃\u001b[1m \u001b[0m\u001b[1m      Param #\u001b[0m\u001b[1m \u001b[0m┃\n",
       "┡━━━━━━━━━━━━━━━━━━━━━━━━━━━━━━━━━╇━━━━━━━━━━━━━━━━━━━━━━━━╇━━━━━━━━━━━━━━━┩\n",
       "│ flatten_4 (\u001b[38;5;33mFlatten\u001b[0m)             │ (\u001b[38;5;45mNone\u001b[0m, \u001b[38;5;34m3072\u001b[0m)           │             \u001b[38;5;34m0\u001b[0m │\n",
       "├─────────────────────────────────┼────────────────────────┼───────────────┤\n",
       "│ dense_5 (\u001b[38;5;33mDense\u001b[0m)                 │ (\u001b[38;5;45mNone\u001b[0m, \u001b[38;5;34m200\u001b[0m)            │       \u001b[38;5;34m614,600\u001b[0m │\n",
       "├─────────────────────────────────┼────────────────────────┼───────────────┤\n",
       "│ dense_6 (\u001b[38;5;33mDense\u001b[0m)                 │ (\u001b[38;5;45mNone\u001b[0m, \u001b[38;5;34m10\u001b[0m)             │         \u001b[38;5;34m2,010\u001b[0m │\n",
       "└─────────────────────────────────┴────────────────────────┴───────────────┘\n"
      ]
     },
     "metadata": {},
     "output_type": "display_data"
    },
    {
     "data": {
      "text/html": [
       "<pre style=\"white-space:pre;overflow-x:auto;line-height:normal;font-family:Menlo,'DejaVu Sans Mono',consolas,'Courier New',monospace\"><span style=\"font-weight: bold\"> Total params: </span><span style=\"color: #00af00; text-decoration-color: #00af00\">1,233,222</span> (4.70 MB)\n",
       "</pre>\n"
      ],
      "text/plain": [
       "\u001b[1m Total params: \u001b[0m\u001b[38;5;34m1,233,222\u001b[0m (4.70 MB)\n"
      ]
     },
     "metadata": {},
     "output_type": "display_data"
    },
    {
     "data": {
      "text/html": [
       "<pre style=\"white-space:pre;overflow-x:auto;line-height:normal;font-family:Menlo,'DejaVu Sans Mono',consolas,'Courier New',monospace\"><span style=\"font-weight: bold\"> Trainable params: </span><span style=\"color: #00af00; text-decoration-color: #00af00\">616,610</span> (2.35 MB)\n",
       "</pre>\n"
      ],
      "text/plain": [
       "\u001b[1m Trainable params: \u001b[0m\u001b[38;5;34m616,610\u001b[0m (2.35 MB)\n"
      ]
     },
     "metadata": {},
     "output_type": "display_data"
    },
    {
     "data": {
      "text/html": [
       "<pre style=\"white-space:pre;overflow-x:auto;line-height:normal;font-family:Menlo,'DejaVu Sans Mono',consolas,'Courier New',monospace\"><span style=\"font-weight: bold\"> Non-trainable params: </span><span style=\"color: #00af00; text-decoration-color: #00af00\">0</span> (0.00 B)\n",
       "</pre>\n"
      ],
      "text/plain": [
       "\u001b[1m Non-trainable params: \u001b[0m\u001b[38;5;34m0\u001b[0m (0.00 B)\n"
      ]
     },
     "metadata": {},
     "output_type": "display_data"
    },
    {
     "data": {
      "text/html": [
       "<pre style=\"white-space:pre;overflow-x:auto;line-height:normal;font-family:Menlo,'DejaVu Sans Mono',consolas,'Courier New',monospace\"><span style=\"font-weight: bold\"> Optimizer params: </span><span style=\"color: #00af00; text-decoration-color: #00af00\">616,612</span> (2.35 MB)\n",
       "</pre>\n"
      ],
      "text/plain": [
       "\u001b[1m Optimizer params: \u001b[0m\u001b[38;5;34m616,612\u001b[0m (2.35 MB)\n"
      ]
     },
     "metadata": {},
     "output_type": "display_data"
    }
   ],
   "source": [
    "# [ํYour Extra Work] Re-compile model2 with the same settings with the prior model.\n",
    "\n",
    "\n",
    "\n",
    "model2.summary()"
   ]
  },
  {
   "cell_type": "markdown",
   "metadata": {
    "id": "gau8qX5eIFvR"
   },
   "source": [
    "### <font color='red'>งานที่ 2.3</font>: การฝึกตัวแบบหลังจากที่โหลดขึ้นมาใหม่\n",
    "ตัวแบบที่เราโหลดขึ้นมาแล้วสามารถนำมาฝึกต่อได้ ซึ่งในที่นี้เราจะรันฟังก์ชัน fit กับ model2 อีก 5 รอบและสังเกตค่าความแม่นยำที่ได้\n",
    "\n",
    "จังหวะนี้เป็นการนำ pre-trained model มา train เพิ่มอีกรอบ ในอณาคตจะได้ยินคำนี้บ่อยๆเพราะว่าโมเดลบางตัวมันลึกมากๆเราคงไม่นำมาเทรนใหม่อีกรอบหรอก ในบางกรณีโหลดโมเดลเขามาใช้งานเลยก็มี"
   ]
  },
  {
   "cell_type": "code",
   "execution_count": 109,
   "metadata": {
    "colab": {
     "base_uri": "https://localhost:8080/",
     "height": 162
    },
    "id": "yW9INxfVIFvS",
    "outputId": "e5d0a487-6832-458f-8332-b657f501b3c1"
   },
   "outputs": [
    {
     "name": "stdout",
     "output_type": "stream",
     "text": [
      "Epoch 1/5\n",
      "\u001b[1m1563/1563\u001b[0m \u001b[32m━━━━━━━━━━━━━━━━━━━━\u001b[0m\u001b[37m\u001b[0m \u001b[1m11s\u001b[0m 7ms/step - accuracy: 0.4528 - loss: 1.5486\n",
      "Epoch 2/5\n",
      "\u001b[1m1563/1563\u001b[0m \u001b[32m━━━━━━━━━━━━━━━━━━━━\u001b[0m\u001b[37m\u001b[0m \u001b[1m10s\u001b[0m 7ms/step - accuracy: 0.4584 - loss: 1.5384\n",
      "Epoch 3/5\n",
      "\u001b[1m1563/1563\u001b[0m \u001b[32m━━━━━━━━━━━━━━━━━━━━\u001b[0m\u001b[37m\u001b[0m \u001b[1m10s\u001b[0m 7ms/step - accuracy: 0.4618 - loss: 1.5304\n",
      "Epoch 4/5\n",
      "\u001b[1m1563/1563\u001b[0m \u001b[32m━━━━━━━━━━━━━━━━━━━━\u001b[0m\u001b[37m\u001b[0m \u001b[1m10s\u001b[0m 7ms/step - accuracy: 0.4629 - loss: 1.5158\n",
      "Epoch 5/5\n",
      "\u001b[1m1563/1563\u001b[0m \u001b[32m━━━━━━━━━━━━━━━━━━━━\u001b[0m\u001b[37m\u001b[0m \u001b[1m10s\u001b[0m 7ms/step - accuracy: 0.4686 - loss: 1.5163\n"
     ]
    }
   ],
   "source": [
    "# [Your Work] ฝึกตัวแบบ model2 อีกห้ารอบ\n",
    "hist = model2.fit(train_images, train_labels, epochs=5)"
   ]
  },
  {
   "cell_type": "markdown",
   "metadata": {
    "id": "ZysM96xKIFvS"
   },
   "source": [
    "### <font color='red'>Quick Quiz</font>: ความแม่นยำของตัวแบบที่นำมาฝึกต่อแตกต่างจากก่อนหน้าหรือไม่\n",
    "ขอให้สังเกตค่าความแม่นยำที่เกิดขึ้นในรอบการฝึกทั้งห้าหลังนำมาฝึกต่อ คุณสังเกตเห็นว่าค่า loss และ accuracy ของการฝึกห้ารอบใน model2 กับการฝึกห้ารอบใน model แรกมีความแตกต่างกันอย่างไร"
   ]
  },
  {
   "cell_type": "markdown",
   "metadata": {
    "id": "WGJuThDgIFvS"
   },
   "source": [
    " <font color='blue'>(พื้นที่สำหรับเติมคำตอบเกี่ยวกับข้อสังเกตที่พบในการฝึกทั้งสองครั้ง)</font><br/>"
   ]
  },
  {
   "cell_type": "markdown",
   "metadata": {
    "id": "D2GACWf9IFvS"
   },
   "source": [
    "## <font color='red'>งานที่ 3</font>: การทดสอบสมรรถนะของตัวแบบ\n",
    "เนื่องจากการที่เครื่องเห็นข้อมูลฝึกบ่อย ๆ อาจจะทำให้เกิดเหตุการณ์โอเวอร์ฟิตติ้ง (Overfitting) ซึ่งเปรียบเหมือนกับนักเรียนที่ท่องจำคำตอบของข้อสอบเก่าได้โดยไม่เข้าใจ ดังนั้นการทดสอบที่ดีจะต้องทำด้วยข้อมูลที่เครื่องไม่เคยเห็นมาก่อน ซึ่งในที่นี้ก็คือ test images/labels ที่มีอยู่ในฐานข้อมูล CIFAR10 นี่เอง\n",
    "\n",
    "### <font color='red'>งานที่ 3.1</font>: การใช้ test set เมื่อเรียกฟังก์ชัน fit สำหรับฝึกตัวแบบ\n",
    "มีความแตกต่างจากการฝึกแบบที่ทำในข้อก่อนหน้าเพียงอย่างเดียวคือ เราเพียงเพิ่มพารามิเตอร์เข้าไป โดยการส่งชุดข้อมูลทดสอบเข้าไปด้วยตอนฝึกเท่านั้น อย่างไรก็ตามเพื่อให้เก็บผลการฝึก(ประวัติ)ไว้อ้างอิงต่อไปในอนาคตได้ เราจะทำการเก็บผลการฝึกไว้ในตัวแปรชื่อ h ด้วย (พูดง่าย ๆ ก็คือให้เขียนว่า h = model.fit(....) อะไรทำนองนี้)\n",
    "\n",
    "จงทำการฝึกตัวแบบต่อจาก model2 ที่ฝึกไว้ก่อนหน้า โดยฝึกอีก 10 รอบ และมีการใช้ข้อมูลชุดทดสอบเพื่อประเมินผลการฝึกและเก็บประวัติการฝึกไว้ในตัวแปร h ซึ่งโดยปรกติเราส่งไปภายใต้ชื่อพารามิเตอร์ validation_data <br/>\n",
    "**หมายเหตุ** ถ้าเราทำการทดลองไปแล้วจะรันอีก ผลการฝึกมันจะดูเหมือนต่อเนื่องไปเรื่อย ๆ ถ้าอยากกลับมาเริ่มที่จุดเดิม เราสั่งโหลดตัวฝึกขึ้นมาอีกรอบได้ (ในกรณีตัวอย่างนี้ เราบันทึกตัวฝึกไว้หลังจบ 5 รอบ เราก็จะวกกลับไปหลังที่ตัวฝึกถูกฝึกผ่านไปแล้ว 5 รอบ นั่นเอง)"
   ]
  },
  {
   "cell_type": "code",
   "execution_count": 118,
   "metadata": {
    "id": "EHq7RuRHIFvS"
   },
   "outputs": [
    {
     "name": "stdout",
     "output_type": "stream",
     "text": [
      "Epoch 1/10\n",
      "\u001b[1m196/196\u001b[0m \u001b[32m━━━━━━━━━━━━━━━━━━━━\u001b[0m\u001b[37m\u001b[0m \u001b[1m2s\u001b[0m 12ms/step - accuracy: 0.4104 - loss: 1.6774 - val_accuracy: 0.4116 - val_loss: 1.6736\n",
      "Epoch 2/10\n",
      "\u001b[1m196/196\u001b[0m \u001b[32m━━━━━━━━━━━━━━━━━━━━\u001b[0m\u001b[37m\u001b[0m \u001b[1m2s\u001b[0m 8ms/step - accuracy: 0.4105 - loss: 1.6762 - val_accuracy: 0.4124 - val_loss: 1.6686\n",
      "Epoch 3/10\n",
      "\u001b[1m196/196\u001b[0m \u001b[32m━━━━━━━━━━━━━━━━━━━━\u001b[0m\u001b[37m\u001b[0m \u001b[1m2s\u001b[0m 8ms/step - accuracy: 0.4142 - loss: 1.6687 - val_accuracy: 0.4148 - val_loss: 1.6637\n",
      "Epoch 4/10\n",
      "\u001b[1m196/196\u001b[0m \u001b[32m━━━━━━━━━━━━━━━━━━━━\u001b[0m\u001b[37m\u001b[0m \u001b[1m2s\u001b[0m 9ms/step - accuracy: 0.4153 - loss: 1.6628 - val_accuracy: 0.4141 - val_loss: 1.6595\n",
      "Epoch 5/10\n",
      "\u001b[1m196/196\u001b[0m \u001b[32m━━━━━━━━━━━━━━━━━━━━\u001b[0m\u001b[37m\u001b[0m \u001b[1m2s\u001b[0m 8ms/step - accuracy: 0.4139 - loss: 1.6575 - val_accuracy: 0.4154 - val_loss: 1.6595\n",
      "Epoch 6/10\n",
      "\u001b[1m196/196\u001b[0m \u001b[32m━━━━━━━━━━━━━━━━━━━━\u001b[0m\u001b[37m\u001b[0m \u001b[1m2s\u001b[0m 9ms/step - accuracy: 0.4151 - loss: 1.6579 - val_accuracy: 0.4223 - val_loss: 1.6487\n",
      "Epoch 7/10\n",
      "\u001b[1m196/196\u001b[0m \u001b[32m━━━━━━━━━━━━━━━━━━━━\u001b[0m\u001b[37m\u001b[0m \u001b[1m2s\u001b[0m 9ms/step - accuracy: 0.4214 - loss: 1.6448 - val_accuracy: 0.4208 - val_loss: 1.6423\n",
      "Epoch 8/10\n",
      "\u001b[1m196/196\u001b[0m \u001b[32m━━━━━━━━━━━━━━━━━━━━\u001b[0m\u001b[37m\u001b[0m \u001b[1m2s\u001b[0m 9ms/step - accuracy: 0.4229 - loss: 1.6479 - val_accuracy: 0.4244 - val_loss: 1.6402\n",
      "Epoch 9/10\n",
      "\u001b[1m196/196\u001b[0m \u001b[32m━━━━━━━━━━━━━━━━━━━━\u001b[0m\u001b[37m\u001b[0m \u001b[1m2s\u001b[0m 9ms/step - accuracy: 0.4284 - loss: 1.6303 - val_accuracy: 0.4212 - val_loss: 1.6342\n",
      "Epoch 10/10\n",
      "\u001b[1m196/196\u001b[0m \u001b[32m━━━━━━━━━━━━━━━━━━━━\u001b[0m\u001b[37m\u001b[0m \u001b[1m2s\u001b[0m 9ms/step - accuracy: 0.4289 - loss: 1.6285 - val_accuracy: 0.4269 - val_loss: 1.6297\n"
     ]
    }
   ],
   "source": [
    "# [Your Work] ฝึกตัวแบบ model2 อีก '10 รอบ' พร้อมส่งข้อมูลฝึกและบันทึกฝลการฝึกไว้ด้วย\n",
    "hist = model.fit(train_images, train_labels, batch_size=256, \n",
    "                 validation_data=(test_images, test_labels), epochs=10)"
   ]
  },
  {
   "cell_type": "markdown",
   "metadata": {
    "id": "25YtUjrIIFvS"
   },
   "source": [
    "### <font color='red'>งานที่ 3.2</font>: การพล็อตกราฟผลลัพธ์ด้วย matplotlib\n",
    "ณ เวลานี้ ค่าตัวเลขที่เราต้องคอยสังเกตมีมากขึ้น เชน ค่า loss ของการฝึกและการทดสอบ รวมถึงค่าความแม่นยำของการฝึกและการทดสอบ มองผิวเผินเหมือนกับมีเพียง 4 ค่า แต่ที่จริงมันมีจำนวนที่เพิ่มขึ้นตามรอบการฝึกด้วย อย่างข้างบนนี้เราฝึก 10 รอบ ก็จะมีตัวเลขที่เราต้องคอยติดตามสังเกตการเปลี่ยนแปลงรวมแล้ว 40 ค่า\n",
    "\n",
    "อย่างไรก็ตาม สิ่งที่เราสนใจมากที่สุดก็คือแนวโน้มของการเปลี่ยนแปลงเมื่อฝึกไปแต่ละรอบ และความแตกต่างระหว่างการฝึกกับการทดสอบ เราอาจจะลดความลำบากของการจดจำตัวเลขได้ด้วยการวาดกราฟค่าผลลัพธ์ในแต่ละรอบออกมา โดยวาดทั้งที่เป็นตัวเลขจากการฝึกและการทดสอบคู่กันไป เป็นต้นว่า (1) เราจะวาดเส้นค่า loss ของการฝึกคู่กับค่า loss ของการทดสอบ หรือ (2) เราจะวาดเส้นค่าความแม่นยำของการฝึกคู่กับค่าความแม่นยำของการทดสอบ"
   ]
  },
  {
   "cell_type": "code",
   "execution_count": 124,
   "metadata": {
    "id": "9RBiIZAFIFvT"
   },
   "outputs": [
    {
     "data": {
      "image/png": "[encoded data removed]",
      "text/plain": [
       "<Figure size 640x480 with 1 Axes>"
      ]
     },
     "metadata": {},
     "output_type": "display_data"
    },
    {
     "data": {
      "image/png": "[encoded data removed]",
      "text/plain": [
       "<Figure size 640x480 with 1 Axes>"
      ]
     },
     "metadata": {},
     "output_type": "display_data"
    }
   ],
   "source": [
    "# [Your Work] plot accuracy history of both training and test sets.\n",
    "\n",
    "plt.plot(hist.history['accuracy'])\n",
    "plt.plot(hist.history['val_accuracy'])\n",
    "plt.title('model accuracy')\n",
    "plt.ylabel('accuracy')\n",
    "plt.xlabel('epoch')\n",
    "plt.legend(['train', 'test'], loc='upper left')\n",
    "plt.show()\n",
    "\n",
    "\n",
    "\n",
    "# # [Your Work] plot loss history of both training and test sets.\n",
    "\n",
    "plt.plot(hist.history['loss'])\n",
    "plt.plot(hist.history['val_loss'])\n",
    "plt.title('model loss')\n",
    "plt.ylabel('loss')\n",
    "plt.xlabel('epoch')\n",
    "plt.legend(['train', 'test'], loc='upper left')\n",
    "plt.show()\n",
    "\n",
    "\n",
    "\n",
    "\n"
   ]
  },
  {
   "cell_type": "markdown",
   "metadata": {
    "id": "wOJ_vxvVIFvT"
   },
   "source": [
    "### <font color='red'>Quick Quiz 3.2a</font>: จะดีกว่าไหมถ้าเราวาดกราฟทั้ง 4 เส้นลงไปด้วยกันหมด\n",
    "ที่จริงก็เป็นไปได้ที่จะทำอย่างนั้น แต่มันจะมีปัญหาอะไรบางอย่างตามมา ขอให้ผู้เรียนลองทดลองในเซลล์ด้านล่างแล้วอภิปรายว่าปัญหาจากการวาดเส้นทั้ง 4 ลงไปด้วยกันในกราฟเดียวคืออะไร\n",
    "\n",
    "ก่อนหน้านี้เราพล็อตกันสองเส้นอยู่แล้วก็คือชุด hist[\"accury\"] กับ hist[\"val_accuracy\"] แล้วถ้าอยากเพิ่มอีกสองเส้นต้องทำอย่างไร?หละ"
   ]
  },
  {
   "cell_type": "code",
   "execution_count": 130,
   "metadata": {
    "id": "hep_QZfkIFvT"
   },
   "outputs": [
    {
     "data": {
      "image/png": "[encoded data removed]",
      "text/plain": [
       "<Figure size 640x480 with 1 Axes>"
      ]
     },
     "metadata": {},
     "output_type": "display_data"
    }
   ],
   "source": [
    "# [Your Work] วาดกราฟทั้ง 4 เส้นลงไปด้วยกันเป็นภาพเดียว (สั่ง plot สี่ครั้งต่อการ show ครั้งเดียว)\n",
    "# อย่าลืมเปลี่ยน legend ที่เคยมีแต่ train, test ให้เป็นชื่อ 4 อย่างที่เหมาะสมด้วยนะ พยายามหน่อย\n",
    "\n",
    "plt.plot(hist.history['accuracy'])\n",
    "plt.plot(hist.history['val_accuracy'])\n",
    "plt.plot(hist.history['loss'])\n",
    "plt.plot(hist.history['val_loss'])\n",
    "plt.title('model accuracy')\n",
    "plt.ylabel('accuracy')\n",
    "plt.xlabel('epoch')\n",
    "plt.legend(['train_acc', 'test_acc','train_loss', 'test_loss'], loc='upper left')\n",
    "plt.show()\n",
    "\n",
    "\n",
    "\n"
   ]
  },
  {
   "cell_type": "markdown",
   "metadata": {
    "id": "TVs1wcvhIFvT"
   },
   "source": [
    " <font color='blue'>(พื้นที่สำหรับเติมคำอภิปรายปัญหา ขอให้ตอบสิ่งที่เห็นว่าเป็นประเด็นปัญหาที่สำคัญหรือเรารู้สึกอย่างไรเมื่อเทียบกับการพล็อตแบบแยกออกมาสองชุด)</font><br/>\n",
    "\n"
   ]
  },
  {
   "cell_type": "markdown",
   "metadata": {
    "id": "MFh5yWLJIFvT"
   },
   "source": [
    "### Tip of Python Life: บรรเทาปัญหา\n",
    "การพล็อตกราฟสองชุดในภาพเดียวกัน มีปัญหาตามที่สังเกตเห็นได้จากข้างบน หากเราจำเป็นต้องวาดทั้ง 4 กราฟด้วยกันจริง เราสามารถบรรเทาอาการด้วยโค้ดข้างล่างนี้\n",
    "[ลิงค์ของโค้ดต้นฉบับที่ผมไปดัดแปลงมา](https://matplotlib.org/gallery/api/two_scales.html)\n",
    "\n",
    "***<font color=\"blue\">แต่เหมือนมันจะมีบัคนิดหน่อยลองแก้ดูว่าต้องแก้ตรงไหนถึงจะทำงานได้ เหมือน key ของตัวแปร h.history จะไม่ตรง</font>***"
   ]
  },
  {
   "cell_type": "code",
   "execution_count": 152,
   "metadata": {
    "id": "T2fSrFTWIFvU"
   },
   "outputs": [
    {
     "data": {
      "image/png": "[encoded data removed]",
      "text/plain": [
       "<Figure size 640x480 with 2 Axes>"
      ]
     },
     "metadata": {},
     "output_type": "display_data"
    }
   ],
   "source": [
    "fig, ax1 = plt.subplots()\n",
    "\n",
    "color = 'tab:red'\n",
    "ax1.set_xlabel('epoch')\n",
    "ax1.set_ylabel('accuracy', color=color)\n",
    "ax1.plot(hist.history['accuracy'], color='blue')\n",
    "ax1.plot(hist.history['val_accuracy'], color='orange')\n",
    "ax1.tick_params(axis='y', labelcolor=color)\n",
    "plt.legend(['train_acc', 'test_acc'], loc='upper right')\n",
    "\n",
    "ax2 = ax1.twinx()  # instantiate a second axes that shares the same x-axis\n",
    "\n",
    "color = 'tab:blue'\n",
    "ax2.set_ylabel('loss', color=color)  # we already handled the x-label with ax1\n",
    "ax2.plot(hist.history['loss'], color='red')\n",
    "ax2.plot(hist.history['val_loss'], color='green')\n",
    "ax2.tick_params(axis='y', labelcolor=color)\n",
    "\n",
    "fig.tight_layout()  # otherwise the right y-label is slightly clipped\n",
    "plt.legend(['train_loss', 'test_loss'], loc='upper left')\n",
    "plt.show()"
   ]
  },
  {
   "cell_type": "markdown",
   "metadata": {
    "id": "3FrCVEeuIFvU"
   },
   "source": [
    "### <font color='red'>Quick Quiz 3.2b</font>: ภาพรวมของการแก้ปัญหาในการวาดเส้นกราฟ\n",
    "ขอให้ลองสังเกตว่าทำไมกราฟถึงดูดีขึ้น และเราจะอ่านค่ากราฟต่าง ๆ ได้อย่างไร จากนั้นลองสรุปออกมาเป็นคำพูดที่เข้าใจได้ง่ายว่าแนวคิดที่ใช้ในการแก้ปัญหาในการวาดกราฟคืออะไร"
   ]
  },
  {
   "cell_type": "markdown",
   "metadata": {
    "id": "Wxc2Xt80IFvV"
   },
   "source": [
    "<font color='blue'>(พื้นที่สำหรับอธิบายแนวคิดของการแก้ปัญหาการวาดกราฟ)</font><br/>"
   ]
  },
  {
   "cell_type": "markdown",
   "metadata": {
    "id": "yA6I5hNtIFvV"
   },
   "source": [
    "### <font color='red'>งานที่ 3.3</font>: การนำไปใช้กับตัวอย่างและการนำค่าผลลัพธ์การทาย (prediction) มาใช้\n",
    "แม้ว่าเราจะฝึกตัวแบบมาอย่างดี แต่ตัวแบบที่เราฝึกเสร็จแล้วจะทำประโยชน์ให้เราได้หากเราไม่รู้ว่ามันทายผลอะไรมาให้เรา ในงานนี้เราจะต้องผสมสิ่งที่เราเรียนรู้มาจากการบ้านที่แล้วกับสิ่งที่เรียนมาจากโค้ดในชั้นเรียนสัปดาห์ที่สอง (Keras Easy Model) เพื่อแปลงผลการทายจากเครื่องออกมาให้เป็นข้อความที่เข้าใจตามได้ง่าย เช่น frog, cat, dog ไม่ใช่ตัวเลข และจะต้องรู้ให้ได้ว่า เครื่องทายถูกหรือผิด\n",
    "\n",
    "เพื่อที่จะทำให้ผู้เรียนเข้าใจตามได้ง่าย เราจะแบ่งแยกงานออกเป็นส่วนเล็ก ๆ\n",
    "\n",
    "### งานที่ 3.3.1: ใช้ฟังก์ชัน predict กับภาพทั้งชุด\n",
    "จงเรียกใช้ฟังก์ชัน predict จาก model2 เพื่อทายภาพในชุดทดสอบ (test_images) ทั้งหมดและเก็บผลการทำนายไว้ตัวแปรชื่อ  ***<font color='red'>p</font><br/>***"
   ]
  },
  {
   "cell_type": "code",
   "execution_count": 154,
   "metadata": {
    "id": "cAoXOKluIFvW"
   },
   "outputs": [
    {
     "name": "stdout",
     "output_type": "stream",
     "text": [
      "\u001b[1m313/313\u001b[0m \u001b[32m━━━━━━━━━━━━━━━━━━━━\u001b[0m\u001b[37m\u001b[0m \u001b[1m1s\u001b[0m 2ms/step\n"
     ]
    }
   ],
   "source": [
    "# [Your Work] use a model to predict the entire set of test images, keep results to p\n",
    "p = model2.predict(test_images)"
   ]
  },
  {
   "cell_type": "markdown",
   "metadata": {
    "id": "s6KKsndjIFvW"
   },
   "source": [
    "### <font color='red'>งานที่ 3.3.2</font>: ผลการทายของภาพแรก\n",
    "ผลการทายของภาพแรกแบบอ่านยาก สามารถดูได้จากค่าใน p[0] ลองรันโค้ดข้างล่างนี้เพื่อดูผลลัพธ์"
   ]
  },
  {
   "cell_type": "code",
   "execution_count": 156,
   "metadata": {
    "id": "W4NqBf1oIFvW"
   },
   "outputs": [
    {
     "data": {
      "text/plain": [
       "array([0.00857578, 0.03093821, 0.11156344, 0.3793911 , 0.03824542,\n",
       "       0.19541873, 0.14940491, 0.00394395, 0.08106774, 0.00145063],\n",
       "      dtype=float32)"
      ]
     },
     "execution_count": 156,
     "metadata": {},
     "output_type": "execute_result"
    }
   ],
   "source": [
    "p[0]"
   ]
  },
  {
   "cell_type": "markdown",
   "metadata": {
    "id": "taBcagFRIFvW"
   },
   "source": [
    "### <font color='red'>Quick Quiz 3.3a</font>: จากผลลัพธ์ทางด้านบน เราสรุปได้ว่าเครื่องทายว่าเป็นคลาสไหน และเรารู้ได้อย่างไร\n",
    "จงตอบคำถามนี้ในเซลล์ทางด้านล่างอย่างละเอียด"
   ]
  },
  {
   "cell_type": "markdown",
   "metadata": {
    "id": "PIxc45aNIFvW"
   },
   "source": [
    "<font color='blue'>(พื้นที่สำหรับตอบคำถาม)</font><br/>"
   ]
  },
  {
   "cell_type": "markdown",
   "metadata": {
    "id": "0owUTB0zIFvX"
   },
   "source": [
    "### <font color='red'>งานที่ 3.3.3</font>: ผลการทายของภาพแรกแบบใช้เครื่องสกัดออกมา\n",
    "เมื่อสักครู่ เราดูผลการทายจากการอ่านค่าออกมาด้วยตัวเรา แต่เราตัองทำให้เครื่องมันตอบออกมาให้ได้ว่าเป็นช่องอาเรย์หมายเลขเท่าใดที่เป็นคำตอบที่เครื่องทาย ซึ่งทำได้โดยใช้คำสั่ง np.argmax\n",
    "\n",
    "จง import โมดูล numpy เข้ามาในชื่อ np และใช้คำสั่ง argmax เพื่อดูว่าเครื่องทายตัวอย่างแรกว่าเป็นคลาสหมายเลขเท่าใด"
   ]
  },
  {
   "cell_type": "code",
   "execution_count": 158,
   "metadata": {
    "id": "dZ8xQhU6IFvX"
   },
   "outputs": [],
   "source": [
    "# [Your Work] import the numpy module\n",
    "import numpy as np"
   ]
  },
  {
   "cell_type": "code",
   "execution_count": 160,
   "metadata": {
    "id": "_41A2xLwIFvX"
   },
   "outputs": [
    {
     "data": {
      "text/plain": [
       "36500"
      ]
     },
     "execution_count": 160,
     "metadata": {},
     "output_type": "execute_result"
    }
   ],
   "source": [
    "# [Your Work] use numpy to extract class prediction\n",
    "np.argmax(p)"
   ]
  },
  {
   "cell_type": "markdown",
   "metadata": {
    "id": "7L9OT_QoIFvX"
   },
   "source": [
    "### <font color='red'>งานที่ 3.3.4</font>: แปลงผลการทายให้เป็นชื่อคลาสภาษาอังกฤษ\n",
    "ในการบ้านที่แล้ว เรามีการสร้างลิสต์ชื่อ names ที่เก็บชื่อคลาสแบบภาษาอังกฤษไว้ ซึ่งเราสามารถนำเลขคลาสไปใช้เป็นอินเด็กซ์เพื่อให้ได้ชื่อภาษาอังกฤษออกมา เราจะทำแบบเดียวกันนี้เพื่อให้รู้ว่าเครื่องทายภาพว่าเป็นอะไรแบบที่เข้าใจง่าย ๆ"
   ]
  },
  {
   "cell_type": "code",
   "execution_count": 169,
   "metadata": {
    "id": "wYzF58giIFvX"
   },
   "outputs": [],
   "source": [
    "# [Your Work] จงสร้างลิสต์ names ที่บรรจุชื่อคลาสของวัตถุที่จะทายออกมา\n",
    "names = [\n",
    "    \"airplane\",\n",
    "    \"automobile\",\n",
    "    \"bird\",\n",
    "    \"cat\",\n",
    "    \"deer\",\n",
    "    \"dog\",\n",
    "    \"frog\",\n",
    "    \"horse\",\n",
    "    \"ship\",\n",
    "    \"truck\"\n",
    "]"
   ]
  },
  {
   "cell_type": "code",
   "execution_count": 177,
   "metadata": {
    "id": "_3c2t6NNIFvX"
   },
   "outputs": [
    {
     "data": {
      "text/plain": [
       "'cat'"
      ]
     },
     "execution_count": 177,
     "metadata": {},
     "output_type": "execute_result"
    }
   ],
   "source": [
    "# [Your Work] use value from p[0] and np.argmax to get predicted class name.\n",
    "predicted_class = np.argmax(p[0])\n",
    "names[predicted_class]"
   ]
  },
  {
   "cell_type": "markdown",
   "metadata": {
    "id": "NrktO_4WIFvY"
   },
   "source": [
    "### <font color='red'>งานที่ 3.3.5</font>: ผลการทาย 10 ภาพแรก\n",
    "ให้ใช้ลูปพิมพ์ผลการทาย 10 ภาพแรกออกมา"
   ]
  },
  {
   "cell_type": "code",
   "execution_count": 207,
   "metadata": {
    "id": "HtPERtVzIFvY"
   },
   "outputs": [
    {
     "name": "stdout",
     "output_type": "stream",
     "text": [
      "cat\n",
      "truck\n",
      "ship\n",
      "ship\n",
      "deer\n",
      "frog\n",
      "cat\n",
      "frog\n",
      "deer\n",
      "automobile\n"
     ]
    }
   ],
   "source": [
    "# [Your Work] Use a loop to print out predicted class names of the first 10 images.\n",
    "\n",
    "for i in range(10):\n",
    "    predicted_index = np.argmax(p[i])\n",
    "    predicted_class = names[predicted_index]\n",
    "    print(predicted_class)"
   ]
  },
  {
   "cell_type": "markdown",
   "metadata": {
    "id": "zldhXZhhIFvY"
   },
   "source": [
    "### <font color='red'>งานที่ 3.3.6</font>: คำตอบที่แท้จริงของ 10 ภาพแรก\n",
    "จากการบ้านที่แล้ว เรารู้ว่าคำตอบอยู่ใน labels ซึ่งในที่นี้คือ test_labels\n",
    "จงใช้ลูปเพื่อพิมพ์คำตอบที่แท้จริงของ 10 ภาพแรกออกมา"
   ]
  },
  {
   "cell_type": "code",
   "execution_count": 236,
   "metadata": {
    "id": "xN1hZnrWIFvY"
   },
   "outputs": [
    {
     "name": "stdout",
     "output_type": "stream",
     "text": [
      "frog\n",
      "truck\n",
      "truck\n",
      "deer\n",
      "automobile\n",
      "automobile\n",
      "bird\n",
      "horse\n",
      "ship\n",
      "cat\n"
     ]
    }
   ],
   "source": [
    "# [Your Work] Use a loop to print out ground-truth class names of the first 10 images.\n",
    "\n",
    "for i in range(10):\n",
    "    predicted_index = train_labels[i][0]\n",
    "    print(names[predicted_index])"
   ]
  },
  {
   "cell_type": "markdown",
   "metadata": {
    "id": "0WZs7ZkqIFvY"
   },
   "source": [
    "### <font color='red'>งานที่ 3.3.7</font>: เขียนโปรแกรมสรุปให้หน่อยว่าเครื่องทายว่าเป็นอะไรและความจริงคืออะไร พร้อมทั้งสรุปด้วยว่าทายถูกกี่ครั้งจาก 10 ภาพแรกนี้\n",
    "ตามนั้น อยากให้เครื่องรายงานในรูปแบบทำนองนี้ <br/>\n",
    "image 1: predict = frog, truth = cat, WRONG <br/>\n",
    "image 2: predict = ship, truth = ship, CORRECT <br/>\n",
    "... <br/>\n",
    "image 10: ....\n",
    "\n",
    "**คำแนะนำ** ตอนจะตรวจว่าตอบถูกหรือผิดนั้น เราไม่ต้องเอาสตริงข้อความไปเทียบกันก็ได้ เทียบเฉพาะเลขที่ได้มาจาก argmax และ labels ก็พอ ถ้าจะเทียบสตริง ถึงผลลัพธ์จะไม่เพี้ยน แต่การคำนวณจะใช้เวลามากขึ้น ถ้าเลี่ยงได้ควรเลี่ยง"
   ]
  },
  {
   "cell_type": "code",
   "execution_count": 282,
   "metadata": {
    "id": "h9_wpzkhIFvZ"
   },
   "outputs": [
    {
     "name": "stdout",
     "output_type": "stream",
     "text": [
      "image 1 : predict = frog , truth = cat WRONG\n",
      "image 2 : predict = truck , truth = truck CORRECT\n",
      "image 3 : predict = truck , truth = ship WRONG\n",
      "image 4 : predict = deer , truth = ship WRONG\n",
      "image 5 : predict = automobile , truth = deer WRONG\n",
      "image 6 : predict = automobile , truth = frog WRONG\n",
      "image 7 : predict = bird , truth = cat WRONG\n",
      "image 8 : predict = horse , truth = frog WRONG\n",
      "image 9 : predict = ship , truth = deer WRONG\n",
      "image 10 : predict = cat , truth = automobile WRONG\n"
     ]
    }
   ],
   "source": [
    "# [Your Work] loop over predictions and labels to check answer\n",
    "\n",
    "for i in range(10):\n",
    "    a = names[train_labels[i][0]]\n",
    "    b = names[np.argmax(p[i])]\n",
    "\n",
    "    if a==b:\n",
    "        print(\"image\", i+1 , \": predict =\", a , \", truth =\", b, \"CORRECT\")\n",
    "    else:\n",
    "        print(\"image\", i+1 , \": predict =\", a , \", truth =\", b, \"WRONG\")\n"
   ]
  },
  {
   "cell_type": "markdown",
   "metadata": {
    "id": "cbls7xXdIFvZ"
   },
   "source": [
    "### <font color='red'>งานที่ 3.3.8</font>: แก้ลูปใหม่ ให้มันนับจำนวนคำตอบที่ถูกได้ด้วย\n",
    "อยากให้เครื่องรายงานในรูปแบบคล้ายเดิม แต่มีบรรทัดสรุปจำนวนคำตอบที่ถูกด้วย <br/>\n",
    "image 1: predict = frog, truth = cat, WRONG <br/>\n",
    "image 2: predict = ship, trugth = ship, CORRECT <br/>\n",
    "... <br/>\n",
    "#correct answers = 4 <br/>"
   ]
  },
  {
   "cell_type": "code",
   "execution_count": 288,
   "metadata": {
    "id": "ja2pb8asIFva"
   },
   "outputs": [
    {
     "name": "stdout",
     "output_type": "stream",
     "text": [
      "image 1 : predict = frog , truth = cat WRONG\n",
      "image 2 : predict = truck , truth = truck CORRECT\n",
      "image 3 : predict = truck , truth = ship WRONG\n",
      "image 4 : predict = deer , truth = ship WRONG\n",
      "image 5 : predict = automobile , truth = deer WRONG\n",
      "image 6 : predict = automobile , truth = frog WRONG\n",
      "image 7 : predict = bird , truth = cat WRONG\n",
      "image 8 : predict = horse , truth = frog WRONG\n",
      "image 9 : predict = ship , truth = deer WRONG\n",
      "image 10 : predict = cat , truth = automobile WRONG\n",
      "correct answers = 1\n"
     ]
    }
   ],
   "source": [
    "# [Your Work] add a counter for correct answers\n",
    "\n",
    "count = 0\n",
    "\n",
    "for i in range(10):\n",
    "    a = names[train_labels[i][0]]\n",
    "    b = names[np.argmax(p[i])]\n",
    "    if a==b:\n",
    "        print(\"image\", i+1 , \": predict =\", a , \", truth =\", b, \"CORRECT\")\n",
    "        count+=1\n",
    "    else:\n",
    "        print(\"image\", i+1 , \": predict =\", a , \", truth =\", b, \"WRONG\")\n",
    "        \n",
    "print(\"correct answers =\", count)\n",
    "\n",
    "\n",
    "\n",
    "\n",
    "\n",
    "\n"
   ]
  },
  {
   "cell_type": "markdown",
   "metadata": {
    "id": "RDX4vbKZIFva"
   },
   "source": [
    "### <font color='red'>งานเสริมที่ 1</font>: CNN โมเดล\n",
    "เนื่องจากได้เรียน CNN ไปแล้วอยากให้นักศึกษาลองปรับโมเดลที่เขียนมาข้างต้นให้ใช้โครงสร้างของ CNN ในการทำนายประเภท <br>\n",
    "ลองสร้างโมเดลให้มี CNN เป็นพื้นฐาน อยากทราบว่าโมเดลที่เขียนมาปัจจุบันกับโมเดล CNN นั้นประสิทธิภาพการทำงานมันจะต่างกันมากน้อยเพียงใด จงเขียนโมเดลในรูปแบบ sequential เหมือนเดิมแต่ใช้ Conv2D แทนเลเยอร์ input\n",
    "\n",
    "layers:\n",
    "- Conv2D\n",
    "- dense\n",
    "\n",
    "พร้อมทั้ง train และ predict ด้วย"
   ]
  },
  {
   "cell_type": "code",
   "execution_count": 352,
   "metadata": {
    "id": "gYrMcrDBIFva"
   },
   "outputs": [
    {
     "name": "stdout",
     "output_type": "stream",
     "text": [
      "Epoch 1/5\n",
      "\u001b[1m196/196\u001b[0m \u001b[32m━━━━━━━━━━━━━━━━━━━━\u001b[0m\u001b[37m\u001b[0m \u001b[1m14s\u001b[0m 65ms/step - accuracy: 0.1925 - loss: 2.2271 - val_accuracy: 0.2994 - val_loss: 2.0297\n",
      "Epoch 2/5\n",
      "\u001b[1m196/196\u001b[0m \u001b[32m━━━━━━━━━━━━━━━━━━━━\u001b[0m\u001b[37m\u001b[0m \u001b[1m14s\u001b[0m 72ms/step - accuracy: 0.3026 - loss: 1.9990 - val_accuracy: 0.3255 - val_loss: 1.9279\n",
      "Epoch 3/5\n",
      "\u001b[1m196/196\u001b[0m \u001b[32m━━━━━━━━━━━━━━━━━━━━\u001b[0m\u001b[37m\u001b[0m \u001b[1m13s\u001b[0m 68ms/step - accuracy: 0.3371 - loss: 1.9122 - val_accuracy: 0.3400 - val_loss: 1.8957\n",
      "Epoch 4/5\n",
      "\u001b[1m196/196\u001b[0m \u001b[32m━━━━━━━━━━━━━━━━━━━━\u001b[0m\u001b[37m\u001b[0m \u001b[1m13s\u001b[0m 69ms/step - accuracy: 0.3602 - loss: 1.8616 - val_accuracy: 0.3724 - val_loss: 1.8237\n",
      "Epoch 5/5\n",
      "\u001b[1m196/196\u001b[0m \u001b[32m━━━━━━━━━━━━━━━━━━━━\u001b[0m\u001b[37m\u001b[0m \u001b[1m14s\u001b[0m 72ms/step - accuracy: 0.3761 - loss: 1.8181 - val_accuracy: 0.3679 - val_loss: 1.8205\n",
      "\u001b[1m313/313\u001b[0m \u001b[32m━━━━━━━━━━━━━━━━━━━━\u001b[0m\u001b[37m\u001b[0m \u001b[1m2s\u001b[0m 5ms/step\n"
     ]
    },
    {
     "data": {
      "text/plain": [
       "array([[0.08308488, 0.10201596, 0.15043364, ..., 0.01793271, 0.12907694,\n",
       "        0.01389584],\n",
       "       [0.08820461, 0.1789169 , 0.00518136, ..., 0.00261043, 0.34988442,\n",
       "        0.36305106],\n",
       "       [0.14619978, 0.07100271, 0.01013332, ..., 0.00494882, 0.6171719 ,\n",
       "        0.12912616],\n",
       "       ...,\n",
       "       [0.0314736 , 0.0279626 , 0.06417336, ..., 0.12867734, 0.01550237,\n",
       "        0.01802395],\n",
       "       [0.04794173, 0.15265158, 0.05453176, ..., 0.0563425 , 0.08227444,\n",
       "        0.10315101],\n",
       "       [0.06650029, 0.04346397, 0.10081577, ..., 0.39074078, 0.05008443,\n",
       "        0.04381543]], dtype=float32)"
      ]
     },
     "execution_count": 352,
     "metadata": {},
     "output_type": "execute_result"
    }
   ],
   "source": [
    "# [Your Work] model with CNN\n",
    "model = keras.Sequential([\n",
    "    keras.layers.Conv2D(32, (3, 3),activation=tf.nn.relu, padding='same',input_shape=(32, 32, 3)),\n",
    "    keras.layers.Flatten(),\n",
    "    keras.layers.Dense(10, activation=tf.nn.softmax)\n",
    "])\n",
    "\n",
    "model.compile(optimizer='adam',\n",
    "              loss='sparse_categorical_crossentropy',\n",
    "              metrics=['accuracy'])\n",
    "\n",
    "model.fit(train_images, train_labels, batch_size=256, \n",
    "            validation_data=(test_images, test_labels), epochs=5)\n",
    "\n",
    "model.predict(test_images)"
   ]
  },
  {
   "cell_type": "markdown",
   "metadata": {
    "id": "ntK1Nf-VIFva"
   },
   "source": [
    "### <font color='red'>งานเสริมที่ 1.1</font>: CNN โมเดล\n",
    "อยากทราบถึงเหตุเบื้องลึกเบื้องหลังว่ามันทำงานได้ดีกว่าเพราะอะไร เอาทฤษฏีการมองของมนุษย์หรือfilter มาอธิบายก็ได้"
   ]
  },
  {
   "cell_type": "code",
   "execution_count": null,
   "metadata": {},
   "outputs": [],
   "source": []
  },
  {
   "cell_type": "markdown",
   "metadata": {
    "id": "LwkJiW40IFvb"
   },
   "source": [
    " <font color='blue'>(พื้นที่สำหรับเติมคำอภิปราย อยากทราบว่าเมื่อใช้ CNN แล้วดีขึ้นหรือไม่ แล้วดีขึ้นเพราะอะไร?)</font><br/>"
   ]
  },
  {
   "cell_type": "code",
   "execution_count": null,
   "metadata": {
    "id": "m7UhvMf2IFvb"
   },
   "outputs": [],
   "source": []
  }
 ],
 "metadata": {
  "accelerator": "GPU",
  "colab": {
   "gpuType": "T4",
   "provenance": []
  },
  "kernelspec": {
   "display_name": "Python 3 (ipykernel)",
   "language": "python",
   "name": "python3"
  },
  "language_info": {
   "codemirror_mode": {
    "name": "ipython",
    "version": 3
   },
   "file_extension": ".py",
   "mimetype": "text/x-python",
   "name": "python",
   "nbconvert_exporter": "python",
   "pygments_lexer": "ipython3",
   "version": "3.12.4"
  }
 },
 "nbformat": 4,
 "nbformat_minor": 4
}
